{
 "cells": [
  {
   "cell_type": "markdown",
   "source": [
    "- MÅSTE TA BORT ID INNAN TRÄD CLASSIFIER"
   ],
   "metadata": {
    "collapsed": false
   }
  },
  {
   "cell_type": "code",
   "execution_count": 1,
   "metadata": {
    "collapsed": true
   },
   "outputs": [],
   "source": [
    "import numpy as np\n",
    "import pandas as pd\n",
    "from sklearn.tree import DecisionTreeClassifier\n",
    "from sklearn.model_selection import train_test_split\n",
    "from imblearn.over_sampling import RandomOverSampler\n",
    "from imblearn.under_sampling import RandomUnderSampler\n",
    "\n",
    "import random\n",
    "\n",
    "RANDOM_SEED = 12345"
   ]
  },
  {
   "cell_type": "code",
   "execution_count": 7,
   "metadata": {
    "pycharm": {
     "name": "#%%\n"
    }
   },
   "outputs": [],
   "source": [
    "train_data = pd.read_csv(\"Dataset/train.csv\")\n",
    "#test_data = pd.read_csv(\"Dataset/test.csv\")\n",
    "#combined_data = [train_data,test_data]\n",
    "\n",
    "X = train_data.drop('target', axis=1)\n",
    "y = train_data.target"
   ]
  },
  {
   "cell_type": "code",
   "execution_count": 3,
   "metadata": {
    "pycharm": {
     "name": "#%%\n"
    }
   },
   "outputs": [
    {
     "name": "stdout",
     "output_type": "stream",
     "text": [
      "Unbalanced ratio:  0.037826188541597645\n",
      "Positive class ratio:  0.036447517859182946\n",
      "Negative class ratio:  0.963552482140817\n"
     ]
    }
   ],
   "source": [
    "negative_class = (train_data.target == 0).sum()\n",
    "positive_class = (train_data.target == 1).sum()\n",
    "combined = negative_class+positive_class\n",
    "\n",
    "print(\"Unbalanced ratio: \",positive_class/negative_class)\n",
    "print(\"Positive class ratio: \", positive_class/combined)\n",
    "print(\"Negative class ratio: \", negative_class/combined)"
   ]
  },
  {
   "cell_type": "markdown",
   "metadata": {},
   "source": [
    "We see that the positive class is 3.7 % the size of the negative class. We also see that the positive class corresponds to\n",
    "3.6 % of the dataset.\n",
    "\n",
    "Thus, the dataset is highly unbalanced."
   ]
  },
  {
   "cell_type": "markdown",
   "metadata": {
    "pycharm": {
     "name": "#%% md\n"
    }
   },
   "source": [
    "Bagging:"
   ]
  },
  {
   "cell_type": "code",
   "execution_count": 4,
   "metadata": {
    "pycharm": {
     "name": "#%%\n"
    }
   },
   "outputs": [],
   "source": [
    "#https://imbalanced-learn.org/stable/generated/imblearn.over_sampling.RandomOverSampler.html\n",
    "ros = RandomOverSampler(random_state=RANDOM_SEED)\n",
    "#https://imbalanced-learn.readthedocs.io/en/stable/generated/imblearn.under_sampling.RandomUnderSampler.html\n",
    "rus = RandomUnderSampler(random_state=RANDOM_SEED)\n",
    "\n",
    "def unbalanced_bagger(M, x, y):\n",
    "    #M = Amount of base_learners, x = train set, y = class labels\n",
    "    base_learners = []\n",
    "    sampling_techniques = [ros, rus]\n",
    "    for i in range(M):\n",
    "        #boostrap replica\n",
    "        rnd = np.random.choice(x.shape[0], size=x.shape[0])\n",
    "        x_bootstrap = x.iloc[rnd,:] #WHY?\n",
    "        y_bootstrap = y.iloc[rnd]\n",
    "        #sample the replica with random sample technique\n",
    "        technique = random.randint(0,len(sampling_techniques)-1)\n",
    "        x_sample, y_sample = sampling_techniques[technique].fit_resample(x_bootstrap,y_bootstrap)\n",
    "        #train\n",
    "        clf = DecisionTreeClassifier()\n",
    "        clf.fit(x_sample,y_sample)\n",
    "        base_learners.append(clf)\n",
    "\n",
    "    def predict(x):\n",
    "        predictions = np.zeros([x.shape[0], len(base_learners)])\n",
    "        for i in range(len(base_learners)):\n",
    "            predictions[:,i] = base_learners[i].predict(x)\n",
    "        return np.sign(np.sum(predictions, axis=1))\n",
    "    return predict"
   ]
  },
  {
   "cell_type": "code",
   "execution_count": 8,
   "outputs": [
    {
     "name": "stderr",
     "output_type": "stream",
     "text": [
      "<ipython-input-8-a9c66dd9ffbf>:1: SettingWithCopyWarning: \n",
      "A value is trying to be set on a copy of a slice from a DataFrame\n",
      "\n",
      "See the caveats in the documentation: https://pandas.pydata.org/pandas-docs/stable/user_guide/indexing.html#returning-a-view-versus-a-copy\n",
      "  y[y == 0] = -1\n"
     ]
    }
   ],
   "source": [
    "y[y == 0] = -1\n",
    "X_train,X_test,y_train,y_test, = train_test_split(X,y, test_size=0.3)"
   ],
   "metadata": {
    "collapsed": false,
    "pycharm": {
     "name": "#%%\n"
    }
   }
  },
  {
   "cell_type": "code",
   "execution_count": 12,
   "outputs": [
    {
     "data": {
      "text/plain": "0.962092023028158"
     },
     "execution_count": 12,
     "metadata": {},
     "output_type": "execute_result"
    }
   ],
   "source": [
    "y_test[y_test == 0] = -1\n",
    "ub = unbalanced_bagger(10,X_train,y_train)\n",
    "testing_variable_delete = ub(X_test)\n",
    "np.sum(ub(X_test) == y_test)/y_test.shape[0]"
   ],
   "metadata": {
    "collapsed": false,
    "pycharm": {
     "name": "#%%\n"
    }
   }
  }
 ],
 "metadata": {
  "kernelspec": {
   "display_name": "Python 3",
   "language": "python",
   "name": "python3"
  },
  "language_info": {
   "codemirror_mode": {
    "name": "ipython",
    "version": 3
   },
   "file_extension": ".py",
   "mimetype": "text/x-python",
   "name": "python",
   "nbconvert_exporter": "python",
   "pygments_lexer": "ipython3",
   "version": "3.8.5"
  }
 },
 "nbformat": 4,
 "nbformat_minor": 1
}