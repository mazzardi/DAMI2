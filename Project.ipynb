{
 "cells": [
  {
   "cell_type": "code",
   "execution_count": 1,
   "metadata": {
    "collapsed": true
   },
   "outputs": [],
   "source": [
    "import numpy as np\n",
    "import pandas as pd"
   ]
  },
  {
   "cell_type": "code",
   "execution_count": 2,
   "outputs": [],
   "source": [
    "train_data = pd.read_csv(\"Dataset/train.csv\")\n",
    "test_data = pd.read_csv(\"Dataset/test.csv\")\n",
    "combined_data = [train_data,test_data]"
   ],
   "metadata": {
    "collapsed": false,
    "pycharm": {
     "name": "#%%\n"
    }
   }
  },
  {
   "cell_type": "code",
   "execution_count": 3,
   "outputs": [
    {
     "name": "stdout",
     "output_type": "stream",
     "text": [
      "Unbalanced ratio:  0.037826188541597645\n",
      "Positive class ratio:  0.036447517859182946\n",
      "Negative class ratio:  0.963552482140817\n"
     ]
    }
   ],
   "source": [
    "negative_class = (train_data.target == 0).sum()\n",
    "positive_class = (train_data.target == 1).sum()\n",
    "combined = negative_class+positive_class\n",
    "\n",
    "print(\"Unbalanced ratio: \",positive_class/negative_class)\n",
    "print(\"Positive class ratio: \", positive_class/combined)\n",
    "print(\"Negative class ratio: \", negative_class/combined)"
   ],
   "metadata": {
    "collapsed": false,
    "pycharm": {
     "name": "#%%\n"
    }
   }
  },
  {
   "cell_type": "markdown",
   "source": [
    "We see that the positive class is 3.7 % the size of the negative class. We also see that the positive class corresponds to\n",
    "3.6 % of the dataset.\n",
    "\n",
    "Thus, the dataset is highly unbalanced."
   ],
   "metadata": {
    "collapsed": false
   }
  },
  {
   "cell_type": "code",
   "execution_count": null,
   "outputs": [],
   "source": [],
   "metadata": {
    "collapsed": false,
    "pycharm": {
     "name": "#%%\n"
    }
   }
  }
 ],
 "metadata": {
  "kernelspec": {
   "display_name": "Python 3",
   "language": "python",
   "name": "python3"
  },
  "language_info": {
   "codemirror_mode": {
    "name": "ipython",
    "version": 2
   },
   "file_extension": ".py",
   "mimetype": "text/x-python",
   "name": "python",
   "nbconvert_exporter": "python",
   "pygments_lexer": "ipython2",
   "version": "2.7.6"
  }
 },
 "nbformat": 4,
 "nbformat_minor": 0
}