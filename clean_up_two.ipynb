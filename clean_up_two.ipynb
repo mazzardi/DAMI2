{
 "cells": [
  {
   "cell_type": "markdown",
   "source": [
    "______________\n",
    "DAMI2 Project Report Code - Handling unbalanced datasets\n",
    "\n",
    "2020 Jimmy Ljungman\n",
    "\n",
    "This code imports a data set, preprocesses it, run a new sampling technique\n",
    "called 'Unbalanced_bagging' and measure its performance against other sampling techniques\n",
    "such as random oversampling and random undersampling.\n",
    "\n",
    "Unbalanced_bagging will be measured against the other techniques using the metrics AUPRC and time complexity."
   ],
   "metadata": {
    "collapsed": false
   }
  },
  {
   "cell_type": "markdown",
   "source": [
    "______________\n",
    "Importing necessary libraries and setting global variables"
   ],
   "metadata": {
    "collapsed": false
   }
  },
  {
   "cell_type": "code",
   "execution_count": 25,
   "outputs": [],
   "source": [
    "import numpy as np\n",
    "import pandas as pd\n",
    "import matplotlib.pyplot as plt\n",
    "from sklearn.tree import DecisionTreeClassifier\n",
    "from sklearn.model_selection import train_test_split\n",
    "from imblearn.over_sampling import RandomOverSampler, SMOTE\n",
    "from imblearn.under_sampling import RandomUnderSampler\n",
    "from sklearn.metrics import classification_report\n",
    "from scipy.stats import mode\n",
    "\n",
    "import random\n",
    "\n",
    "RANDOM_SEED = 12345"
   ],
   "metadata": {
    "collapsed": false,
    "pycharm": {
     "name": "#%%\n"
    }
   }
  },
  {
   "cell_type": "markdown",
   "source": [
    ">Import dataset\n",
    ">\n",
    ">More information about the dataset can be found here:\n",
    ">https://www.kaggle.com/c/porto-seguro-safe-driver-prediction/data?select=train.csv"
   ],
   "metadata": {
    "collapsed": false
   }
  },
  {
   "cell_type": "code",
   "execution_count": 2,
   "outputs": [],
   "source": [
    "original_df = pd.read_csv(\"Dataset/train.csv\")\n",
    "\n",
    "X = original_df.drop('target', axis=1)\n",
    "y = original_df.target"
   ],
   "metadata": {
    "collapsed": false,
    "pycharm": {
     "name": "#%%\n"
    }
   }
  },
  {
   "cell_type": "markdown",
   "source": [
    "______________\n",
    "Describing data"
   ],
   "metadata": {
    "collapsed": false
   }
  },
  {
   "cell_type": "code",
   "execution_count": 3,
   "outputs": [
    {
     "data": {
      "text/plain": "<AxesSubplot:title={'center':'Plot over class imbalance'}>"
     },
     "execution_count": 3,
     "metadata": {},
     "output_type": "execute_result"
    },
    {
     "data": {
      "text/plain": "<Figure size 432x288 with 1 Axes>",
      "image/png": "[encoded data removed]"
     },
     "metadata": {
      "needs_background": "light"
     },
     "output_type": "display_data"
    }
   ],
   "source": [
    "total_labels = original_df.target.value_counts()\n",
    "total_labels.plot(kind='bar', title='Plot over class imbalance')"
   ],
   "metadata": {
    "collapsed": false,
    "pycharm": {
     "name": "#%%\n"
    }
   }
  },
  {
   "cell_type": "markdown",
   "source": [
    ">As we can see, the class distribution heavily favors class 0."
   ],
   "metadata": {
    "collapsed": false
   }
  },
  {
   "cell_type": "code",
   "execution_count": 4,
   "outputs": [
    {
     "data": {
      "text/plain": "   id  target  ps_ind_01  ps_ind_02_cat  ps_ind_03  ps_ind_04_cat  \\\n0   7       0          2              2          5              1   \n1   9       0          1              1          7              0   \n2  13       0          5              4          9              1   \n3  16       0          0              1          2              0   \n4  17       0          0              2          0              1   \n\n   ps_ind_05_cat  ps_ind_06_bin  ps_ind_07_bin  ps_ind_08_bin  ...  \\\n0              0              0              1              0  ...   \n1              0              0              0              1  ...   \n2              0              0              0              1  ...   \n3              0              1              0              0  ...   \n4              0              1              0              0  ...   \n\n   ps_calc_11  ps_calc_12  ps_calc_13  ps_calc_14  ps_calc_15_bin  \\\n0           9           1           5           8               0   \n1           3           1           1           9               0   \n2           4           2           7           7               0   \n3           2           2           4           9               0   \n4           3           1           1           3               0   \n\n   ps_calc_16_bin  ps_calc_17_bin  ps_calc_18_bin  ps_calc_19_bin  \\\n0               1               1               0               0   \n1               1               1               0               1   \n2               1               1               0               1   \n3               0               0               0               0   \n4               0               0               1               1   \n\n   ps_calc_20_bin  \n0               1  \n1               0  \n2               0  \n3               0  \n4               0  \n\n[5 rows x 59 columns]",
      "text/html": "<div>\n<style scoped>\n    .dataframe tbody tr th:only-of-type {\n        vertical-align: middle;\n    }\n\n    .dataframe tbody tr th {\n        vertical-align: top;\n    }\n\n    .dataframe thead th {\n        text-align: right;\n    }\n</style>\n<table border=\"1\" class=\"dataframe\">\n  <thead>\n    <tr style=\"text-align: right;\">\n      <th></th>\n      <th>id</th>\n      <th>target</th>\n      <th>ps_ind_01</th>\n      <th>ps_ind_02_cat</th>\n      <th>ps_ind_03</th>\n      <th>ps_ind_04_cat</th>\n      <th>ps_ind_05_cat</th>\n      <th>ps_ind_06_bin</th>\n      <th>ps_ind_07_bin</th>\n      <th>ps_ind_08_bin</th>\n      <th>...</th>\n      <th>ps_calc_11</th>\n      <th>ps_calc_12</th>\n      <th>ps_calc_13</th>\n      <th>ps_calc_14</th>\n      <th>ps_calc_15_bin</th>\n      <th>ps_calc_16_bin</th>\n      <th>ps_calc_17_bin</th>\n      <th>ps_calc_18_bin</th>\n      <th>ps_calc_19_bin</th>\n      <th>ps_calc_20_bin</th>\n    </tr>\n  </thead>\n  <tbody>\n    <tr>\n      <th>0</th>\n      <td>7</td>\n      <td>0</td>\n      <td>2</td>\n      <td>2</td>\n      <td>5</td>\n      <td>1</td>\n      <td>0</td>\n      <td>0</td>\n      <td>1</td>\n      <td>0</td>\n      <td>...</td>\n      <td>9</td>\n      <td>1</td>\n      <td>5</td>\n      <td>8</td>\n      <td>0</td>\n      <td>1</td>\n      <td>1</td>\n      <td>0</td>\n      <td>0</td>\n      <td>1</td>\n    </tr>\n    <tr>\n      <th>1</th>\n      <td>9</td>\n      <td>0</td>\n      <td>1</td>\n      <td>1</td>\n      <td>7</td>\n      <td>0</td>\n      <td>0</td>\n      <td>0</td>\n      <td>0</td>\n      <td>1</td>\n      <td>...</td>\n      <td>3</td>\n      <td>1</td>\n      <td>1</td>\n      <td>9</td>\n      <td>0</td>\n      <td>1</td>\n      <td>1</td>\n      <td>0</td>\n      <td>1</td>\n      <td>0</td>\n    </tr>\n    <tr>\n      <th>2</th>\n      <td>13</td>\n      <td>0</td>\n      <td>5</td>\n      <td>4</td>\n      <td>9</td>\n      <td>1</td>\n      <td>0</td>\n      <td>0</td>\n      <td>0</td>\n      <td>1</td>\n      <td>...</td>\n      <td>4</td>\n      <td>2</td>\n      <td>7</td>\n      <td>7</td>\n      <td>0</td>\n      <td>1</td>\n      <td>1</td>\n      <td>0</td>\n      <td>1</td>\n      <td>0</td>\n    </tr>\n    <tr>\n      <th>3</th>\n      <td>16</td>\n      <td>0</td>\n      <td>0</td>\n      <td>1</td>\n      <td>2</td>\n      <td>0</td>\n      <td>0</td>\n      <td>1</td>\n      <td>0</td>\n      <td>0</td>\n      <td>...</td>\n      <td>2</td>\n      <td>2</td>\n      <td>4</td>\n      <td>9</td>\n      <td>0</td>\n      <td>0</td>\n      <td>0</td>\n      <td>0</td>\n      <td>0</td>\n      <td>0</td>\n    </tr>\n    <tr>\n      <th>4</th>\n      <td>17</td>\n      <td>0</td>\n      <td>0</td>\n      <td>2</td>\n      <td>0</td>\n      <td>1</td>\n      <td>0</td>\n      <td>1</td>\n      <td>0</td>\n      <td>0</td>\n      <td>...</td>\n      <td>3</td>\n      <td>1</td>\n      <td>1</td>\n      <td>3</td>\n      <td>0</td>\n      <td>0</td>\n      <td>0</td>\n      <td>1</td>\n      <td>1</td>\n      <td>0</td>\n    </tr>\n  </tbody>\n</table>\n<p>5 rows × 59 columns</p>\n</div>"
     },
     "execution_count": 4,
     "metadata": {},
     "output_type": "execute_result"
    }
   ],
   "source": [
    "original_df.head()\n"
   ],
   "metadata": {
    "collapsed": false,
    "pycharm": {
     "name": "#%%\n"
    }
   }
  },
  {
   "cell_type": "markdown",
   "source": [
    ">- According to the source of the dataset 'id' is unique and is the id of each\n",
    ">_ which means it can be dropped; especially since we are bagging with decision trees.\n",
    ">- Feature names including postfix 'bin' indicate binary features.\n",
    ">- Feature names including postfix 'cat' indicate categorical features.\n",
    ">- Feature names without these designations are either continuos or ordinal.\n",
    ">- Values of -1 indicate that the feature was missing from the observation.\n",
    ">- 'Target' is the class label and signifies whether or not a claim was filed for that policy holder."
   ],
   "metadata": {
    "collapsed": false
   }
  },
  {
   "cell_type": "markdown",
   "source": [
    "______________\n",
    "Preprocessing"
   ],
   "metadata": {
    "collapsed": false
   }
  },
  {
   "cell_type": "markdown",
   "source": [
    ">Drop the 'id' column"
   ],
   "metadata": {
    "collapsed": false
   }
  },
  {
   "cell_type": "code",
   "execution_count": 5,
   "outputs": [
    {
     "data": {
      "text/plain": "   ps_ind_01  ps_ind_02_cat  ps_ind_03  ps_ind_04_cat  ps_ind_05_cat  \\\n0          2              2          5              1              0   \n1          1              1          7              0              0   \n2          5              4          9              1              0   \n3          0              1          2              0              0   \n4          0              2          0              1              0   \n\n   ps_ind_06_bin  ps_ind_07_bin  ps_ind_08_bin  ps_ind_09_bin  ps_ind_10_bin  \\\n0              0              1              0              0              0   \n1              0              0              1              0              0   \n2              0              0              1              0              0   \n3              1              0              0              0              0   \n4              1              0              0              0              0   \n\n   ...  ps_calc_11  ps_calc_12  ps_calc_13  ps_calc_14  ps_calc_15_bin  \\\n0  ...           9           1           5           8               0   \n1  ...           3           1           1           9               0   \n2  ...           4           2           7           7               0   \n3  ...           2           2           4           9               0   \n4  ...           3           1           1           3               0   \n\n   ps_calc_16_bin  ps_calc_17_bin  ps_calc_18_bin  ps_calc_19_bin  \\\n0               1               1               0               0   \n1               1               1               0               1   \n2               1               1               0               1   \n3               0               0               0               0   \n4               0               0               1               1   \n\n   ps_calc_20_bin  \n0               1  \n1               0  \n2               0  \n3               0  \n4               0  \n\n[5 rows x 57 columns]",
      "text/html": "<div>\n<style scoped>\n    .dataframe tbody tr th:only-of-type {\n        vertical-align: middle;\n    }\n\n    .dataframe tbody tr th {\n        vertical-align: top;\n    }\n\n    .dataframe thead th {\n        text-align: right;\n    }\n</style>\n<table border=\"1\" class=\"dataframe\">\n  <thead>\n    <tr style=\"text-align: right;\">\n      <th></th>\n      <th>ps_ind_01</th>\n      <th>ps_ind_02_cat</th>\n      <th>ps_ind_03</th>\n      <th>ps_ind_04_cat</th>\n      <th>ps_ind_05_cat</th>\n      <th>ps_ind_06_bin</th>\n      <th>ps_ind_07_bin</th>\n      <th>ps_ind_08_bin</th>\n      <th>ps_ind_09_bin</th>\n      <th>ps_ind_10_bin</th>\n      <th>...</th>\n      <th>ps_calc_11</th>\n      <th>ps_calc_12</th>\n      <th>ps_calc_13</th>\n      <th>ps_calc_14</th>\n      <th>ps_calc_15_bin</th>\n      <th>ps_calc_16_bin</th>\n      <th>ps_calc_17_bin</th>\n      <th>ps_calc_18_bin</th>\n      <th>ps_calc_19_bin</th>\n      <th>ps_calc_20_bin</th>\n    </tr>\n  </thead>\n  <tbody>\n    <tr>\n      <th>0</th>\n      <td>2</td>\n      <td>2</td>\n      <td>5</td>\n      <td>1</td>\n      <td>0</td>\n      <td>0</td>\n      <td>1</td>\n      <td>0</td>\n      <td>0</td>\n      <td>0</td>\n      <td>...</td>\n      <td>9</td>\n      <td>1</td>\n      <td>5</td>\n      <td>8</td>\n      <td>0</td>\n      <td>1</td>\n      <td>1</td>\n      <td>0</td>\n      <td>0</td>\n      <td>1</td>\n    </tr>\n    <tr>\n      <th>1</th>\n      <td>1</td>\n      <td>1</td>\n      <td>7</td>\n      <td>0</td>\n      <td>0</td>\n      <td>0</td>\n      <td>0</td>\n      <td>1</td>\n      <td>0</td>\n      <td>0</td>\n      <td>...</td>\n      <td>3</td>\n      <td>1</td>\n      <td>1</td>\n      <td>9</td>\n      <td>0</td>\n      <td>1</td>\n      <td>1</td>\n      <td>0</td>\n      <td>1</td>\n      <td>0</td>\n    </tr>\n    <tr>\n      <th>2</th>\n      <td>5</td>\n      <td>4</td>\n      <td>9</td>\n      <td>1</td>\n      <td>0</td>\n      <td>0</td>\n      <td>0</td>\n      <td>1</td>\n      <td>0</td>\n      <td>0</td>\n      <td>...</td>\n      <td>4</td>\n      <td>2</td>\n      <td>7</td>\n      <td>7</td>\n      <td>0</td>\n      <td>1</td>\n      <td>1</td>\n      <td>0</td>\n      <td>1</td>\n      <td>0</td>\n    </tr>\n    <tr>\n      <th>3</th>\n      <td>0</td>\n      <td>1</td>\n      <td>2</td>\n      <td>0</td>\n      <td>0</td>\n      <td>1</td>\n      <td>0</td>\n      <td>0</td>\n      <td>0</td>\n      <td>0</td>\n      <td>...</td>\n      <td>2</td>\n      <td>2</td>\n      <td>4</td>\n      <td>9</td>\n      <td>0</td>\n      <td>0</td>\n      <td>0</td>\n      <td>0</td>\n      <td>0</td>\n      <td>0</td>\n    </tr>\n    <tr>\n      <th>4</th>\n      <td>0</td>\n      <td>2</td>\n      <td>0</td>\n      <td>1</td>\n      <td>0</td>\n      <td>1</td>\n      <td>0</td>\n      <td>0</td>\n      <td>0</td>\n      <td>0</td>\n      <td>...</td>\n      <td>3</td>\n      <td>1</td>\n      <td>1</td>\n      <td>3</td>\n      <td>0</td>\n      <td>0</td>\n      <td>0</td>\n      <td>1</td>\n      <td>1</td>\n      <td>0</td>\n    </tr>\n  </tbody>\n</table>\n<p>5 rows × 57 columns</p>\n</div>"
     },
     "execution_count": 5,
     "metadata": {},
     "output_type": "execute_result"
    }
   ],
   "source": [
    "X = X.drop('id', axis=1)\n",
    "X.head()"
   ],
   "metadata": {
    "collapsed": false,
    "pycharm": {
     "name": "#%%\n"
    }
   }
  },
  {
   "cell_type": "markdown",
   "source": [
    ">Check for missing values"
   ],
   "metadata": {
    "collapsed": false
   }
  },
  {
   "cell_type": "code",
   "execution_count": 6,
   "outputs": [
    {
     "data": {
      "text/plain": "<Figure size 432x288 with 1 Axes>",
      "image/png": "[encoded data removed]"
     },
     "metadata": {
      "needs_background": "light"
     },
     "output_type": "display_data"
    }
   ],
   "source": [
    "#https://www.kaggle.com/kostya17/simple-approach-to-handle-missing-values\n",
    "def get_missing_values(data):\n",
    "    dict = {}\n",
    "    N = data.shape[0]\n",
    "    for col in data:\n",
    "        val = (data[col] == -1).sum()\n",
    "        if(val > 0):\n",
    "            dict[col] = val * 100 / N\n",
    "    plot_missing_values(dict)\n",
    "    return dict\n",
    "\n",
    "def plot_missing_values(dict):\n",
    "    plt.bar(range(len(dict)), dict.values())\n",
    "    plt.ylabel('Percent of total dataset')\n",
    "    plt.xticks(range(len(dict)), dict.keys(), rotation='vertical')\n",
    "\n",
    "missing_values_dictionary = get_missing_values(X)"
   ],
   "metadata": {
    "collapsed": false,
    "pycharm": {
     "name": "#%%\n"
    }
   }
  },
  {
   "cell_type": "markdown",
   "source": [
    ">We see that ps_car_03_cat and ps_car_05_cat is missing more than 45 % of their values,\n",
    ">thus we should probably drop them:"
   ],
   "metadata": {
    "collapsed": false
   }
  },
  {
   "cell_type": "code",
   "execution_count": 7,
   "outputs": [
    {
     "data": {
      "text/plain": "   ps_ind_01  ps_ind_02_cat  ps_ind_03  ps_ind_04_cat  ps_ind_05_cat  \\\n0          2              2          5              1              0   \n1          1              1          7              0              0   \n2          5              4          9              1              0   \n3          0              1          2              0              0   \n4          0              2          0              1              0   \n\n   ps_ind_06_bin  ps_ind_07_bin  ps_ind_08_bin  ps_ind_09_bin  ps_ind_10_bin  \\\n0              0              1              0              0              0   \n1              0              0              1              0              0   \n2              0              0              1              0              0   \n3              1              0              0              0              0   \n4              1              0              0              0              0   \n\n   ...  ps_calc_11  ps_calc_12  ps_calc_13  ps_calc_14  ps_calc_15_bin  \\\n0  ...           9           1           5           8               0   \n1  ...           3           1           1           9               0   \n2  ...           4           2           7           7               0   \n3  ...           2           2           4           9               0   \n4  ...           3           1           1           3               0   \n\n   ps_calc_16_bin  ps_calc_17_bin  ps_calc_18_bin  ps_calc_19_bin  \\\n0               1               1               0               0   \n1               1               1               0               1   \n2               1               1               0               1   \n3               0               0               0               0   \n4               0               0               1               1   \n\n   ps_calc_20_bin  \n0               1  \n1               0  \n2               0  \n3               0  \n4               0  \n\n[5 rows x 55 columns]",
      "text/html": "<div>\n<style scoped>\n    .dataframe tbody tr th:only-of-type {\n        vertical-align: middle;\n    }\n\n    .dataframe tbody tr th {\n        vertical-align: top;\n    }\n\n    .dataframe thead th {\n        text-align: right;\n    }\n</style>\n<table border=\"1\" class=\"dataframe\">\n  <thead>\n    <tr style=\"text-align: right;\">\n      <th></th>\n      <th>ps_ind_01</th>\n      <th>ps_ind_02_cat</th>\n      <th>ps_ind_03</th>\n      <th>ps_ind_04_cat</th>\n      <th>ps_ind_05_cat</th>\n      <th>ps_ind_06_bin</th>\n      <th>ps_ind_07_bin</th>\n      <th>ps_ind_08_bin</th>\n      <th>ps_ind_09_bin</th>\n      <th>ps_ind_10_bin</th>\n      <th>...</th>\n      <th>ps_calc_11</th>\n      <th>ps_calc_12</th>\n      <th>ps_calc_13</th>\n      <th>ps_calc_14</th>\n      <th>ps_calc_15_bin</th>\n      <th>ps_calc_16_bin</th>\n      <th>ps_calc_17_bin</th>\n      <th>ps_calc_18_bin</th>\n      <th>ps_calc_19_bin</th>\n      <th>ps_calc_20_bin</th>\n    </tr>\n  </thead>\n  <tbody>\n    <tr>\n      <th>0</th>\n      <td>2</td>\n      <td>2</td>\n      <td>5</td>\n      <td>1</td>\n      <td>0</td>\n      <td>0</td>\n      <td>1</td>\n      <td>0</td>\n      <td>0</td>\n      <td>0</td>\n      <td>...</td>\n      <td>9</td>\n      <td>1</td>\n      <td>5</td>\n      <td>8</td>\n      <td>0</td>\n      <td>1</td>\n      <td>1</td>\n      <td>0</td>\n      <td>0</td>\n      <td>1</td>\n    </tr>\n    <tr>\n      <th>1</th>\n      <td>1</td>\n      <td>1</td>\n      <td>7</td>\n      <td>0</td>\n      <td>0</td>\n      <td>0</td>\n      <td>0</td>\n      <td>1</td>\n      <td>0</td>\n      <td>0</td>\n      <td>...</td>\n      <td>3</td>\n      <td>1</td>\n      <td>1</td>\n      <td>9</td>\n      <td>0</td>\n      <td>1</td>\n      <td>1</td>\n      <td>0</td>\n      <td>1</td>\n      <td>0</td>\n    </tr>\n    <tr>\n      <th>2</th>\n      <td>5</td>\n      <td>4</td>\n      <td>9</td>\n      <td>1</td>\n      <td>0</td>\n      <td>0</td>\n      <td>0</td>\n      <td>1</td>\n      <td>0</td>\n      <td>0</td>\n      <td>...</td>\n      <td>4</td>\n      <td>2</td>\n      <td>7</td>\n      <td>7</td>\n      <td>0</td>\n      <td>1</td>\n      <td>1</td>\n      <td>0</td>\n      <td>1</td>\n      <td>0</td>\n    </tr>\n    <tr>\n      <th>3</th>\n      <td>0</td>\n      <td>1</td>\n      <td>2</td>\n      <td>0</td>\n      <td>0</td>\n      <td>1</td>\n      <td>0</td>\n      <td>0</td>\n      <td>0</td>\n      <td>0</td>\n      <td>...</td>\n      <td>2</td>\n      <td>2</td>\n      <td>4</td>\n      <td>9</td>\n      <td>0</td>\n      <td>0</td>\n      <td>0</td>\n      <td>0</td>\n      <td>0</td>\n      <td>0</td>\n    </tr>\n    <tr>\n      <th>4</th>\n      <td>0</td>\n      <td>2</td>\n      <td>0</td>\n      <td>1</td>\n      <td>0</td>\n      <td>1</td>\n      <td>0</td>\n      <td>0</td>\n      <td>0</td>\n      <td>0</td>\n      <td>...</td>\n      <td>3</td>\n      <td>1</td>\n      <td>1</td>\n      <td>3</td>\n      <td>0</td>\n      <td>0</td>\n      <td>0</td>\n      <td>1</td>\n      <td>1</td>\n      <td>0</td>\n    </tr>\n  </tbody>\n</table>\n<p>5 rows × 55 columns</p>\n</div>"
     },
     "execution_count": 7,
     "metadata": {},
     "output_type": "execute_result"
    }
   ],
   "source": [
    "X = X.drop('ps_car_03_cat', axis=1)\n",
    "missing_values_dictionary.pop('ps_car_03_cat')\n",
    "X = X.drop('ps_car_05_cat', axis=1)\n",
    "missing_values_dictionary.pop('ps_car_05_cat')\n",
    "X.head()"
   ],
   "metadata": {
    "collapsed": false,
    "pycharm": {
     "name": "#%%\n"
    }
   }
  },
  {
   "cell_type": "markdown",
   "source": [
    ">For the rest of the features with missing values we will just fill categorical and binary features with their mode value and with\n",
    ">the continous and ordinal values we'll fill the missing values with their mean value."
   ],
   "metadata": {
    "collapsed": false
   }
  },
  {
   "cell_type": "code",
   "execution_count": 8,
   "outputs": [
    {
     "data": {
      "text/plain": "{}"
     },
     "execution_count": 8,
     "metadata": {},
     "output_type": "execute_result"
    },
    {
     "data": {
      "text/plain": "<Figure size 432x288 with 1 Axes>",
      "image/png": "[encoded data removed]"
     },
     "metadata": {
      "needs_background": "light"
     },
     "output_type": "display_data"
    }
   ],
   "source": [
    "def remove_missing_values(data, dict):\n",
    "    for key in dict:\n",
    "        if any([x in key for x in ['bin', 'cat']]):\n",
    "            data = data.replace({key:{-1 : data[key].mode()[0]}})\n",
    "        else:\n",
    "            data = data.replace({key:{-1 : data[key].mean()}})\n",
    "    return data\n",
    "\n",
    "X = remove_missing_values(X, missing_values_dictionary)\n",
    "get_missing_values(X)"
   ],
   "metadata": {
    "collapsed": false,
    "pycharm": {
     "name": "#%%\n"
    }
   }
  },
  {
   "cell_type": "markdown",
   "source": [
    ">All missing values has been taken care of.\n",
    ">\n",
    ">We can now continue with different sampling techniques:"
   ],
   "metadata": {
    "collapsed": false
   }
  },
  {
   "cell_type": "code",
   "execution_count": 12,
   "outputs": [],
   "source": [
    "X_training,X_testing,y_training,y_testing, = train_test_split(X, y, test_size=0.3, random_state=RANDOM_SEED)\n",
    "x_train, x_val, y_train, y_val = train_test_split(X_training, y_training, test_size=0.3, random_state=RANDOM_SEED)"
   ],
   "metadata": {
    "collapsed": false,
    "pycharm": {
     "name": "#%%\n"
    }
   }
  },
  {
   "cell_type": "code",
   "execution_count": 23,
   "outputs": [],
   "source": [
    "clf = DecisionTreeClassifier(random_state=RANDOM_SEED)\n",
    "\n",
    "def unbalanced_dataset_technique():\n",
    "    clf.fit(x_train, y_train)\n",
    "    return clf\n",
    "\n",
    "def smote_technique():\n",
    "    smote = SMOTE(random_state=RANDOM_SEED,sampling_strategy='minority')\n",
    "    x_sample, y_sample = smote.fit_sample(x_train, y_train)\n",
    "    clf.fit(x_sample,y_sample)\n",
    "    return clf\n",
    "\n",
    "def random_oversampling_technique():\n",
    "    ros = RandomOverSampler(random_state=RANDOM_SEED)\n",
    "    x_sample, y_sample = ros.fit_sample(x_train, y_train)\n",
    "    clf.fit(x_sample, y_sample)\n",
    "    return clf\n",
    "\n",
    "def random_undersampling_technique():\n",
    "    rus = RandomUnderSampler(random_state=RANDOM_SEED)\n",
    "    x_sample, y_sample = rus.fit_sample(x_train, y_train)\n",
    "    clf.fit(x_sample, y_sample)\n",
    "    return clf"
   ],
   "metadata": {
    "collapsed": false,
    "pycharm": {
     "name": "#%%\n"
    }
   }
  },
  {
   "cell_type": "code",
   "source": [
    "#Train on original data\n",
    "print(\"Original data\")\n",
    "classifier = unbalanced_dataset_technique()\n",
    "print(\"\\nValidation Results:\")\n",
    "print(classification_report(y_val, classifier.predict(x_val)))\n",
    "print(\"\\nTest Results:\")\n",
    "print(classification_report(y_testing, classifier.predict(X_testing)))"
   ],
   "metadata": {
    "collapsed": false,
    "pycharm": {
     "name": "#%%\n"
    }
   },
   "execution_count": 17,
   "outputs": [
    {
     "name": "stdout",
     "output_type": "stream",
     "text": [
      "Validation Results:\n",
      "              precision    recall  f1-score   support\n",
      "\n",
      "           0       0.96      0.95      0.96    120468\n",
      "           1       0.05      0.06      0.05      4527\n",
      "\n",
      "    accuracy                           0.92    124995\n",
      "   macro avg       0.51      0.51      0.51    124995\n",
      "weighted avg       0.93      0.92      0.93    124995\n",
      "\n",
      "\n",
      "Test Results:\n",
      "              precision    recall  f1-score   support\n",
      "\n",
      "           0       0.96      0.95      0.96    172033\n",
      "           1       0.05      0.06      0.05      6531\n",
      "\n",
      "    accuracy                           0.92    178564\n",
      "   macro avg       0.50      0.51      0.51    178564\n",
      "weighted avg       0.93      0.92      0.92    178564\n",
      "\n"
     ]
    }
   ]
  },
  {
   "cell_type": "code",
   "execution_count": 20,
   "outputs": [
    {
     "name": "stdout",
     "output_type": "stream",
     "text": [
      "Data balanced by SMOTE\n",
      "\n",
      "Validation Results:\n",
      "              precision    recall  f1-score   support\n",
      "\n",
      "           0       0.96      0.93      0.95    120468\n",
      "           1       0.05      0.09      0.06      4527\n",
      "\n",
      "    accuracy                           0.90    124995\n",
      "   macro avg       0.50      0.51      0.50    124995\n",
      "weighted avg       0.93      0.90      0.92    124995\n",
      "\n",
      "\n",
      "Test Results:\n",
      "              precision    recall  f1-score   support\n",
      "\n",
      "           0       0.96      0.93      0.95    172033\n",
      "           1       0.04      0.08      0.06      6531\n",
      "\n",
      "    accuracy                           0.90    178564\n",
      "   macro avg       0.50      0.51      0.50    178564\n",
      "weighted avg       0.93      0.90      0.91    178564\n",
      "\n"
     ]
    }
   ],
   "source": [
    "#Train on SMOTE\n",
    "print(\"Data balanced by SMOTE\")\n",
    "classifier = smote_technique()\n",
    "print(\"\\nValidation Results:\")\n",
    "print(classification_report(y_val, classifier.predict(x_val)))\n",
    "print(\"\\nTest Results:\")\n",
    "print(classification_report(y_testing, classifier.predict(X_testing)))"
   ],
   "metadata": {
    "collapsed": false,
    "pycharm": {
     "name": "#%%\n"
    }
   }
  },
  {
   "cell_type": "code",
   "execution_count": 21,
   "outputs": [
    {
     "name": "stdout",
     "output_type": "stream",
     "text": [
      "Data balanced by Random Oversampling\n",
      "\n",
      "Validation Results:\n",
      "              precision    recall  f1-score   support\n",
      "\n",
      "           0       0.96      0.96      0.96    120468\n",
      "           1       0.04      0.04      0.04      4527\n",
      "\n",
      "    accuracy                           0.93    124995\n",
      "   macro avg       0.50      0.50      0.50    124995\n",
      "weighted avg       0.93      0.93      0.93    124995\n",
      "\n",
      "\n",
      "Test Results:\n",
      "              precision    recall  f1-score   support\n",
      "\n",
      "           0       0.96      0.96      0.96    172033\n",
      "           1       0.04      0.05      0.05      6531\n",
      "\n",
      "    accuracy                           0.93    178564\n",
      "   macro avg       0.50      0.50      0.50    178564\n",
      "weighted avg       0.93      0.93      0.93    178564\n",
      "\n"
     ]
    }
   ],
   "source": [
    "#Train on Random Oversampling\n",
    "print(\"Data balanced by Random Oversampling\")\n",
    "classifier = random_oversampling_technique()\n",
    "print(\"\\nValidation Results:\")\n",
    "print(classification_report(y_val, classifier.predict(x_val)))\n",
    "print(\"\\nTest Results:\")\n",
    "print(classification_report(y_testing, classifier.predict(X_testing)))"
   ],
   "metadata": {
    "collapsed": false,
    "pycharm": {
     "name": "#%%\n"
    }
   }
  },
  {
   "cell_type": "code",
   "execution_count": 24,
   "outputs": [
    {
     "name": "stdout",
     "output_type": "stream",
     "text": [
      "Data balanced by Random Undersampling\n",
      "\n",
      "Validation Results:\n",
      "              precision    recall  f1-score   support\n",
      "\n",
      "           0       0.97      0.53      0.68    120468\n",
      "           1       0.04      0.52      0.07      4527\n",
      "\n",
      "    accuracy                           0.53    124995\n",
      "   macro avg       0.50      0.53      0.38    124995\n",
      "weighted avg       0.93      0.53      0.66    124995\n",
      "\n",
      "\n",
      "Test Results:\n",
      "              precision    recall  f1-score   support\n",
      "\n",
      "           0       0.97      0.53      0.68    172033\n",
      "           1       0.04      0.51      0.07      6531\n",
      "\n",
      "    accuracy                           0.53    178564\n",
      "   macro avg       0.50      0.52      0.38    178564\n",
      "weighted avg       0.93      0.53      0.66    178564\n",
      "\n"
     ]
    }
   ],
   "source": [
    "#Train on Random Undersampling\n",
    "print(\"Data balanced by Random Undersampling\")\n",
    "classifier = random_undersampling_technique()\n",
    "print(\"\\nValidation Results:\")\n",
    "print(classification_report(y_val, classifier.predict(x_val)))\n",
    "print(\"\\nTest Results:\")\n",
    "print(classification_report(y_testing, classifier.predict(X_testing)))"
   ],
   "metadata": {
    "collapsed": false,
    "pycharm": {
     "name": "#%%\n"
    }
   }
  },
  {
   "cell_type": "code",
   "execution_count": 32,
   "outputs": [],
   "source": [
    "#Unbalanced_bagger implementation\n",
    "def unbalanced_bagger(x, y, M = 1, sampling_techniques = None):\n",
    "    if sampling_techniques is None:\n",
    "        sampling_techniques = []\n",
    "    #M = Amount of base_learners, x = train set, y = class labels\n",
    "    base_learners = []\n",
    "    for i in range(M):\n",
    "        #boostrap replica\n",
    "        rnd = np.random.choice(x.shape[0], size=x.shape[0])\n",
    "        x_bootstrap = x.iloc[rnd,:]\n",
    "        y_bootstrap = y.iloc[rnd]\n",
    "        #sample the replica with random sample technique\n",
    "        technique = random.randint(0,len(sampling_techniques)-1)\n",
    "        x_sample, y_sample = sampling_techniques[technique].fit_sample(x_bootstrap,y_bootstrap)\n",
    "        #train\n",
    "        clf = DecisionTreeClassifier()\n",
    "        clf.fit(x_sample,y_sample)\n",
    "        base_learners.append(clf)\n",
    "\n",
    "    def predict(x):\n",
    "        predictions = np.zeros([x.shape[0], len(base_learners)])\n",
    "        for i in range(len(base_learners)):\n",
    "            predictions[:,i] = base_learners[i].predict(x)\n",
    "        return mode(predictions, axis=1)[0]\n",
    "    return predict"
   ],
   "metadata": {
    "collapsed": false,
    "pycharm": {
     "name": "#%%\n"
    }
   }
  },
  {
   "cell_type": "code",
   "execution_count": 33,
   "outputs": [
    {
     "name": "stdout",
     "output_type": "stream",
     "text": [
      "Data balanced by Unbalanced Bagger\n",
      "\n",
      "Validation Results:\n",
      "              precision    recall  f1-score   support\n",
      "\n",
      "           0       0.96      1.00      0.98    120468\n",
      "           1       0.07      0.01      0.01      4527\n",
      "\n",
      "    accuracy                           0.96    124995\n",
      "   macro avg       0.52      0.50      0.50    124995\n",
      "weighted avg       0.93      0.96      0.94    124995\n",
      "\n",
      "\n",
      "Test Results:\n",
      "              precision    recall  f1-score   support\n",
      "\n",
      "           0       0.96      1.00      0.98    172033\n",
      "           1       0.08      0.01      0.02      6531\n",
      "\n",
      "    accuracy                           0.96    178564\n",
      "   macro avg       0.52      0.50      0.50    178564\n",
      "weighted avg       0.93      0.96      0.94    178564\n",
      "\n"
     ]
    }
   ],
   "source": [
    "ros = RandomOverSampler(random_state=RANDOM_SEED)\n",
    "rus = RandomUnderSampler(random_state=RANDOM_SEED)\n",
    "smote = SMOTE(random_state=RANDOM_SEED, sampling_strategy='minority')\n",
    "\n",
    "sampling_techniques = [ros, rus,smote]\n",
    "classifier = unbalanced_bagger(x_train, y_train, 10, sampling_techniques)\n",
    "\n",
    "#Test technique\n",
    "print(\"Data balanced by Unbalanced Bagger\")\n",
    "print(\"\\nValidation Results:\")\n",
    "print(classification_report(y_val, classifier(x_val)))\n",
    "print(\"\\nTest Results:\")\n",
    "print(classification_report(y_testing, classifier(X_testing)))"
   ],
   "metadata": {
    "collapsed": false,
    "pycharm": {
     "name": "#%%\n"
    }
   }
  }
 ],
 "metadata": {
  "kernelspec": {
   "display_name": "Python 3",
   "language": "python",
   "name": "python3"
  },
  "language_info": {
   "codemirror_mode": {
    "name": "ipython",
    "version": 2
   },
   "file_extension": ".py",
   "mimetype": "text/x-python",
   "name": "python",
   "nbconvert_exporter": "python",
   "pygments_lexer": "ipython2",
   "version": "2.7.6"
  }
 },
 "nbformat": 4,
 "nbformat_minor": 0
}