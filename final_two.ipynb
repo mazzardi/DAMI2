{
 "cells": [
  {
   "cell_type": "markdown",
   "source": [
    "______________\n",
    "Importing necessary libraries and setting global variables"
   ],
   "metadata": {
    "collapsed": false
   }
  },
  {
   "cell_type": "code",
   "execution_count": 37,
   "outputs": [],
   "source": [
    "import numpy as np\n",
    "import pandas as pd\n",
    "import matplotlib.pyplot as plt\n",
    "from sklearn.ensemble import RandomForestClassifier\n",
    "from sklearn.tree import DecisionTreeClassifier\n",
    "from sklearn.model_selection import train_test_split\n",
    "from imblearn.over_sampling import RandomOverSampler, SMOTE\n",
    "from imblearn.under_sampling import RandomUnderSampler\n",
    "from sklearn.metrics import classification_report\n",
    "from scipy.stats import mode\n",
    "from sklearn.metrics import average_precision_score\n",
    "from sklearn.preprocessing import StandardScaler\n",
    "from models import UnbalancedBagger, UnbalancedBaggerNoSampling\n",
    "from sklearn.svm import SVC\n",
    "from sklearn.metrics import roc_auc_score\n",
    "from sklearn.model_selection import GridSearchCV\n",
    "from sklearn.metrics import precision_recall_curve\n",
    "\n",
    "RANDOM_SEED = 12345"
   ],
   "metadata": {
    "collapsed": false,
    "pycharm": {
     "name": "#%%\n"
    }
   }
  },
  {
   "cell_type": "code",
   "execution_count": 25,
   "outputs": [],
   "source": [
    "original_df = pd.read_csv(\"datasets/diabetes.csv\")\n"
   ],
   "metadata": {
    "collapsed": false,
    "pycharm": {
     "name": "#%%\n"
    }
   }
  },
  {
   "cell_type": "code",
   "execution_count": 26,
   "outputs": [
    {
     "data": {
      "text/plain": "       Pregnancies     Glucose  BloodPressure  SkinThickness     Insulin  \\\ncount   768.000000  768.000000     768.000000     768.000000  768.000000   \nmean      3.845052  120.894531      69.105469      20.536458   79.799479   \nstd       3.369578   31.972618      19.355807      15.952218  115.244002   \nmin       0.000000    0.000000       0.000000       0.000000    0.000000   \n25%       1.000000   99.000000      62.000000       0.000000    0.000000   \n50%       3.000000  117.000000      72.000000      23.000000   30.500000   \n75%       6.000000  140.250000      80.000000      32.000000  127.250000   \nmax      17.000000  199.000000     122.000000      99.000000  846.000000   \n\n              BMI  DiabetesPedigreeFunction         Age     Outcome  \ncount  768.000000                768.000000  768.000000  768.000000  \nmean    31.992578                  0.471876   33.240885    0.348958  \nstd      7.884160                  0.331329   11.760232    0.476951  \nmin      0.000000                  0.078000   21.000000    0.000000  \n25%     27.300000                  0.243750   24.000000    0.000000  \n50%     32.000000                  0.372500   29.000000    0.000000  \n75%     36.600000                  0.626250   41.000000    1.000000  \nmax     67.100000                  2.420000   81.000000    1.000000  ",
      "text/html": "<div>\n<style scoped>\n    .dataframe tbody tr th:only-of-type {\n        vertical-align: middle;\n    }\n\n    .dataframe tbody tr th {\n        vertical-align: top;\n    }\n\n    .dataframe thead th {\n        text-align: right;\n    }\n</style>\n<table border=\"1\" class=\"dataframe\">\n  <thead>\n    <tr style=\"text-align: right;\">\n      <th></th>\n      <th>Pregnancies</th>\n      <th>Glucose</th>\n      <th>BloodPressure</th>\n      <th>SkinThickness</th>\n      <th>Insulin</th>\n      <th>BMI</th>\n      <th>DiabetesPedigreeFunction</th>\n      <th>Age</th>\n      <th>Outcome</th>\n    </tr>\n  </thead>\n  <tbody>\n    <tr>\n      <th>count</th>\n      <td>768.000000</td>\n      <td>768.000000</td>\n      <td>768.000000</td>\n      <td>768.000000</td>\n      <td>768.000000</td>\n      <td>768.000000</td>\n      <td>768.000000</td>\n      <td>768.000000</td>\n      <td>768.000000</td>\n    </tr>\n    <tr>\n      <th>mean</th>\n      <td>3.845052</td>\n      <td>120.894531</td>\n      <td>69.105469</td>\n      <td>20.536458</td>\n      <td>79.799479</td>\n      <td>31.992578</td>\n      <td>0.471876</td>\n      <td>33.240885</td>\n      <td>0.348958</td>\n    </tr>\n    <tr>\n      <th>std</th>\n      <td>3.369578</td>\n      <td>31.972618</td>\n      <td>19.355807</td>\n      <td>15.952218</td>\n      <td>115.244002</td>\n      <td>7.884160</td>\n      <td>0.331329</td>\n      <td>11.760232</td>\n      <td>0.476951</td>\n    </tr>\n    <tr>\n      <th>min</th>\n      <td>0.000000</td>\n      <td>0.000000</td>\n      <td>0.000000</td>\n      <td>0.000000</td>\n      <td>0.000000</td>\n      <td>0.000000</td>\n      <td>0.078000</td>\n      <td>21.000000</td>\n      <td>0.000000</td>\n    </tr>\n    <tr>\n      <th>25%</th>\n      <td>1.000000</td>\n      <td>99.000000</td>\n      <td>62.000000</td>\n      <td>0.000000</td>\n      <td>0.000000</td>\n      <td>27.300000</td>\n      <td>0.243750</td>\n      <td>24.000000</td>\n      <td>0.000000</td>\n    </tr>\n    <tr>\n      <th>50%</th>\n      <td>3.000000</td>\n      <td>117.000000</td>\n      <td>72.000000</td>\n      <td>23.000000</td>\n      <td>30.500000</td>\n      <td>32.000000</td>\n      <td>0.372500</td>\n      <td>29.000000</td>\n      <td>0.000000</td>\n    </tr>\n    <tr>\n      <th>75%</th>\n      <td>6.000000</td>\n      <td>140.250000</td>\n      <td>80.000000</td>\n      <td>32.000000</td>\n      <td>127.250000</td>\n      <td>36.600000</td>\n      <td>0.626250</td>\n      <td>41.000000</td>\n      <td>1.000000</td>\n    </tr>\n    <tr>\n      <th>max</th>\n      <td>17.000000</td>\n      <td>199.000000</td>\n      <td>122.000000</td>\n      <td>99.000000</td>\n      <td>846.000000</td>\n      <td>67.100000</td>\n      <td>2.420000</td>\n      <td>81.000000</td>\n      <td>1.000000</td>\n    </tr>\n  </tbody>\n</table>\n</div>"
     },
     "execution_count": 26,
     "metadata": {},
     "output_type": "execute_result"
    }
   ],
   "source": [
    "original_df.describe()\n",
    "#weird that \"Glucose\", \"BloodPressure\", \"SkinThickness\", \"Insulin\", \"BMI\" have zero values, imputate mean values"
   ],
   "metadata": {
    "collapsed": false,
    "pycharm": {
     "name": "#%%\n"
    }
   }
  },
  {
   "cell_type": "code",
   "execution_count": 27,
   "outputs": [
    {
     "name": "stdout",
     "output_type": "stream",
     "text": [
      "Amount of 0 values:\n",
      "Glucose:  5\n",
      "BloodPressure:  35\n",
      "SkinThickness:  227\n",
      "Insulin:  374\n",
      "BMI:  11\n"
     ]
    }
   ],
   "source": [
    "print(\"Amount of 0 values:\")\n",
    "print(\"Glucose: \", len(original_df[original_df[\"Glucose\"] == 0]))\n",
    "print(\"BloodPressure: \", len(original_df[original_df[\"BloodPressure\"] == 0]))\n",
    "print(\"SkinThickness: \", len(original_df[original_df[\"SkinThickness\"] == 0]))\n",
    "print(\"Insulin: \", len(original_df[original_df[\"Insulin\"] == 0]))\n",
    "print(\"BMI: \", len(original_df[original_df[\"BMI\"] == 0]))"
   ],
   "metadata": {
    "collapsed": false,
    "pycharm": {
     "name": "#%%\n"
    }
   }
  },
  {
   "cell_type": "code",
   "execution_count": 28,
   "outputs": [],
   "source": [
    "def imputation(data, columns):\n",
    "    for c in columns:\n",
    "         if c in data.columns:\n",
    "             data[c].replace(0, np.nan,inplace=True)\n",
    "             data[c].fillna(data[c].mean(), inplace=True)\n",
    "    return data\n"
   ],
   "metadata": {
    "collapsed": false,
    "pycharm": {
     "name": "#%%\n"
    }
   }
  },
  {
   "cell_type": "code",
   "execution_count": 29,
   "outputs": [
    {
     "data": {
      "text/plain": "       Pregnancies     Glucose  BloodPressure  SkinThickness     Insulin  \\\ncount   768.000000  768.000000     768.000000     768.000000  768.000000   \nmean      3.845052  121.686763      72.405184      29.153420  155.548223   \nstd       3.369578   30.435949      12.096346       8.790942   85.021108   \nmin       0.000000   44.000000      24.000000       7.000000   14.000000   \n25%       1.000000   99.750000      64.000000      25.000000  121.500000   \n50%       3.000000  117.000000      72.202592      29.153420  155.548223   \n75%       6.000000  140.250000      80.000000      32.000000  155.548223   \nmax      17.000000  199.000000     122.000000      99.000000  846.000000   \n\n              BMI  DiabetesPedigreeFunction         Age     Outcome  \ncount  768.000000                768.000000  768.000000  768.000000  \nmean    32.457464                  0.471876   33.240885    0.348958  \nstd      6.875151                  0.331329   11.760232    0.476951  \nmin     18.200000                  0.078000   21.000000    0.000000  \n25%     27.500000                  0.243750   24.000000    0.000000  \n50%     32.400000                  0.372500   29.000000    0.000000  \n75%     36.600000                  0.626250   41.000000    1.000000  \nmax     67.100000                  2.420000   81.000000    1.000000  ",
      "text/html": "<div>\n<style scoped>\n    .dataframe tbody tr th:only-of-type {\n        vertical-align: middle;\n    }\n\n    .dataframe tbody tr th {\n        vertical-align: top;\n    }\n\n    .dataframe thead th {\n        text-align: right;\n    }\n</style>\n<table border=\"1\" class=\"dataframe\">\n  <thead>\n    <tr style=\"text-align: right;\">\n      <th></th>\n      <th>Pregnancies</th>\n      <th>Glucose</th>\n      <th>BloodPressure</th>\n      <th>SkinThickness</th>\n      <th>Insulin</th>\n      <th>BMI</th>\n      <th>DiabetesPedigreeFunction</th>\n      <th>Age</th>\n      <th>Outcome</th>\n    </tr>\n  </thead>\n  <tbody>\n    <tr>\n      <th>count</th>\n      <td>768.000000</td>\n      <td>768.000000</td>\n      <td>768.000000</td>\n      <td>768.000000</td>\n      <td>768.000000</td>\n      <td>768.000000</td>\n      <td>768.000000</td>\n      <td>768.000000</td>\n      <td>768.000000</td>\n    </tr>\n    <tr>\n      <th>mean</th>\n      <td>3.845052</td>\n      <td>121.686763</td>\n      <td>72.405184</td>\n      <td>29.153420</td>\n      <td>155.548223</td>\n      <td>32.457464</td>\n      <td>0.471876</td>\n      <td>33.240885</td>\n      <td>0.348958</td>\n    </tr>\n    <tr>\n      <th>std</th>\n      <td>3.369578</td>\n      <td>30.435949</td>\n      <td>12.096346</td>\n      <td>8.790942</td>\n      <td>85.021108</td>\n      <td>6.875151</td>\n      <td>0.331329</td>\n      <td>11.760232</td>\n      <td>0.476951</td>\n    </tr>\n    <tr>\n      <th>min</th>\n      <td>0.000000</td>\n      <td>44.000000</td>\n      <td>24.000000</td>\n      <td>7.000000</td>\n      <td>14.000000</td>\n      <td>18.200000</td>\n      <td>0.078000</td>\n      <td>21.000000</td>\n      <td>0.000000</td>\n    </tr>\n    <tr>\n      <th>25%</th>\n      <td>1.000000</td>\n      <td>99.750000</td>\n      <td>64.000000</td>\n      <td>25.000000</td>\n      <td>121.500000</td>\n      <td>27.500000</td>\n      <td>0.243750</td>\n      <td>24.000000</td>\n      <td>0.000000</td>\n    </tr>\n    <tr>\n      <th>50%</th>\n      <td>3.000000</td>\n      <td>117.000000</td>\n      <td>72.202592</td>\n      <td>29.153420</td>\n      <td>155.548223</td>\n      <td>32.400000</td>\n      <td>0.372500</td>\n      <td>29.000000</td>\n      <td>0.000000</td>\n    </tr>\n    <tr>\n      <th>75%</th>\n      <td>6.000000</td>\n      <td>140.250000</td>\n      <td>80.000000</td>\n      <td>32.000000</td>\n      <td>155.548223</td>\n      <td>36.600000</td>\n      <td>0.626250</td>\n      <td>41.000000</td>\n      <td>1.000000</td>\n    </tr>\n    <tr>\n      <th>max</th>\n      <td>17.000000</td>\n      <td>199.000000</td>\n      <td>122.000000</td>\n      <td>99.000000</td>\n      <td>846.000000</td>\n      <td>67.100000</td>\n      <td>2.420000</td>\n      <td>81.000000</td>\n      <td>1.000000</td>\n    </tr>\n  </tbody>\n</table>\n</div>"
     },
     "execution_count": 29,
     "metadata": {},
     "output_type": "execute_result"
    }
   ],
   "source": [
    "original_df = imputation(original_df, [\"Glucose\", \"BloodPressure\", \"SkinThickness\", \"Insulin\", \"BMI\"])\n",
    "\n",
    "original_df.describe()"
   ],
   "metadata": {
    "collapsed": false,
    "pycharm": {
     "name": "#%%\n"
    }
   }
  },
  {
   "cell_type": "code",
   "execution_count": 30,
   "outputs": [
    {
     "data": {
      "text/plain": "<Figure size 864x576 with 1 Axes>",
      "image/png": "[encoded data removed]"
     },
     "metadata": {
      "needs_background": "light"
     },
     "output_type": "display_data"
    }
   ],
   "source": [
    "total_labels = original_df.Outcome.value_counts()\n",
    "x_labels = [0,1]\n",
    "\n",
    "plt.figure(figsize=(12,8))\n",
    "ax = total_labels.plot(kind='bar')\n",
    "ax.set_title('Class label distribution (Amount)')\n",
    "ax.set_xlabel('Labels')\n",
    "ax.set_ylabel('Amount')\n",
    "ax.set_xticklabels(x_labels)\n",
    "\n",
    "rects = ax.patches\n",
    "\n",
    "for rect,lbl in zip(rects, total_labels):\n",
    "    height = rect.get_height()\n",
    "    ax.text(rect.get_x() + rect.get_width() / 2, height\n",
    "            , lbl, ha='center', va='bottom')"
   ],
   "metadata": {
    "collapsed": false,
    "pycharm": {
     "name": "#%%\n"
    }
   }
  },
  {
   "cell_type": "code",
   "execution_count": 31,
   "outputs": [
    {
     "data": {
      "text/plain": "<Figure size 864x576 with 1 Axes>",
      "image/png": "[encoded data removed]"
     },
     "metadata": {
      "needs_background": "light"
     },
     "output_type": "display_data"
    }
   ],
   "source": [
    "x_labels = [0,1]\n",
    "total_labels_percentage = original_df.Outcome.value_counts()/len(original_df)\n",
    "\n",
    "plt.figure(figsize=(12,8))\n",
    "ax = total_labels_percentage.plot(kind='bar')\n",
    "ax.set_title('Class label distribution (%)')\n",
    "ax.set_xlabel('Labels')\n",
    "ax.set_ylabel('Percentage')\n",
    "ax.set_xticklabels(x_labels)\n",
    "\n",
    "rects = ax.patches\n",
    "labels = []\n",
    "\n",
    "for lbl in total_labels_percentage:\n",
    "    labels.append(\"{0:.2f}\".format(lbl))\n",
    "\n",
    "for rect,lbl in zip(rects, labels):\n",
    "    height = rect.get_height()\n",
    "    ax.text(rect.get_x() + rect.get_width() / 2, height\n",
    "            , lbl, ha='center', va='bottom')"
   ],
   "metadata": {
    "collapsed": false,
    "pycharm": {
     "name": "#%%\n"
    }
   }
  },
  {
   "cell_type": "code",
   "execution_count": 38,
   "outputs": [],
   "source": [
    "#we can now split attributes and class label\n",
    "X = original_df.drop('Outcome', axis=1)\n",
    "y = original_df.Outcome\n",
    "\n",
    "X.describe()\n",
    "\n",
    "#data_standardized used for SVC\n",
    "scaler = StandardScaler()\n",
    "data_standardized = scaler.fit_transform(X)\n",
    "data_standardized = pd.DataFrame(data_standardized,columns=X.columns)"
   ],
   "metadata": {
    "collapsed": false,
    "pycharm": {
     "name": "#%%\n"
    }
   }
  },
  {
   "cell_type": "code",
   "execution_count": null,
   "outputs": [],
   "source": [
    "X_train,X_test,y_train,y_test, = train_test_split(X, y, test_size=0.3, random_state=RANDOM_SEED)\n",
    "\n",
    "#standardized split for SVC\n",
    "X_train_svc,X_test_svc,y_train_svc,y_test_svc, = train_test_split(data_standardized, y, test_size=0.3, random_state=RANDOM_SEED)"
   ],
   "metadata": {
    "collapsed": false,
    "pycharm": {
     "name": "#%%\n"
    }
   }
  },
  {
   "cell_type": "code",
   "execution_count": 34,
   "outputs": [],
   "source": [
    "param_grid_svc = [\n",
    "  {'C': [1, 10, 100, 1000], 'kernel': ['linear']},\n",
    "  {'C': [1, 10, 100, 1000], 'gamma': [0.001, 0.0001], 'kernel': ['rbf', 'poly']},\n",
    " ]\n",
    "\n",
    "param_grid_dt = [\n",
    "    {'splitter' : ['best', 'random'],\n",
    "     'min_samples_split':[2,5,10],\n",
    "     'min_samples_leaf':[1,5,10],\n",
    "     'min_weight_fraction_leaf':[0,0.05, 0.1, 0.15, 0.2]\n",
    "     }\n",
    "]\n",
    "\n",
    "dtc = DecisionTreeClassifier(random_state=RANDOM_SEED)\n",
    "svc = SVC(random_state=RANDOM_SEED, probability=True)\n",
    "\n",
    "#Methods for sampling\n",
    "ros = RandomOverSampler(random_state=RANDOM_SEED)\n",
    "rus = RandomUnderSampler(random_state=RANDOM_SEED)\n",
    "smote = SMOTE(random_state=RANDOM_SEED, sampling_strategy='minority')\n",
    "\n",
    "search_dtc = GridSearchCV(dtc, param_grid_dt, cv=10, scoring='roc_auc')\n",
    "search_svc = GridSearchCV(svc, param_grid_svc, cv=10, scoring='roc_auc')"
   ],
   "metadata": {
    "collapsed": false,
    "pycharm": {
     "name": "#%%\n"
    }
   }
  },
  {
   "cell_type": "code",
   "execution_count": 35,
   "outputs": [],
   "source": [
    "def smote_technique(X,y):\n",
    "    x_sample, y_sample = smote.fit_sample(X, y)\n",
    "    return x_sample,y_sample\n",
    "\n",
    "def random_oversampling_technique(X,y):\n",
    "    x_sample, y_sample = ros.fit_sample(X, y)\n",
    "    return x_sample,y_sample\n",
    "\n",
    "def random_undersampling_technique(X,y):\n",
    "    x_sample, y_sample = rus.fit_sample(X, y)\n",
    "    return x_sample,y_sample"
   ],
   "metadata": {
    "collapsed": false,
    "pycharm": {
     "name": "#%%\n"
    }
   }
  },
  {
   "cell_type": "code",
   "execution_count": 43,
   "outputs": [
    {
     "name": "stdout",
     "output_type": "stream",
     "text": [
      "Original data\n",
      "Validation\n",
      "Decision tree:\n",
      "0.7776033834586467\n",
      "DecisionTreeClassifier(min_weight_fraction_leaf=0.05, random_state=12345)\n",
      "SVC:\n",
      "0.8199679345422378\n",
      "SVC(C=100, gamma=0.001, probability=True, random_state=12345)\n",
      "\n",
      "Test\n",
      "Decision tree:\n",
      "AUC:  0.7449280388416855\n",
      "SVC:\n",
      "AUC:  0.7560256632564591\n"
     ]
    },
    {
     "data": {
      "text/plain": "<Figure size 432x288 with 1 Axes>",
      "image/png": "[encoded data removed]"
     },
     "metadata": {
      "needs_background": "light"
     },
     "output_type": "display_data"
    },
    {
     "data": {
      "text/plain": "<Figure size 432x288 with 1 Axes>",
      "image/png": "[encoded data removed]"
     },
     "metadata": {
      "needs_background": "light"
     },
     "output_type": "display_data"
    }
   ],
   "source": [
    "#Train on original data\n",
    "print(\"Original data\")\n",
    "\n",
    "print('Validation')\n",
    "print('Decision tree:')\n",
    "search_dtc.fit(X_train, y_train)\n",
    "print(search_dtc.best_score_)\n",
    "print(search_dtc.best_estimator_)\n",
    "\n",
    "print('SVC:')\n",
    "search_svc.fit(X_train_svc, y_train_svc)\n",
    "print(search_svc.best_score_)\n",
    "print(search_svc.best_estimator_)\n",
    "\n",
    "print('\\nTest')\n",
    "print('Decision tree:')\n",
    "print('AUC: ',roc_auc_score(y_test,search_dtc.best_estimator_.predict(X_test)))\n",
    "\n",
    "probs = search_dtc.best_estimator_.predict_proba(X_test)\n",
    "pos_probs = probs[:,1]\n",
    "\n",
    "prec, recall, thres = precision_recall_curve(y_test, pos_probs)\n",
    "plt.plot(recall, prec, marker = '.', label='Decision Tree')\n",
    "plt.xlabel('Recall')\n",
    "plt.ylabel('Precision')\n",
    "\n",
    "print('SVC:')\n",
    "print('AUC: ',roc_auc_score(y_test_svc,search_svc.best_estimator_.predict(X_test_svc)))\n",
    "probs = search_svc.best_estimator_.predict_proba(X_test_svc)\n",
    "pos_probs = probs[:,1]\n",
    "prec, recall, thres = precision_recall_curve(y_test_svc, pos_probs)\n",
    "plt.plot(recall, prec, marker = '.', label='SVC')\n",
    "\n",
    "plt.legend()\n",
    "plt.show()"
   ],
   "metadata": {
    "collapsed": false,
    "pycharm": {
     "name": "#%%\n"
    }
   }
  },
  {
   "cell_type": "code",
   "execution_count": 65,
   "outputs": [],
   "source": [
    "def create_AUPRC_values(classifier, X_test, y_true):\n",
    "    probs = classifier.predict_proba(X_test)\n",
    "    pos_probs = probs[:,1]\n",
    "    prec,recall,_ = precision_recall_curve(y_true, pos_probs)\n",
    "    return prec,recall"
   ],
   "metadata": {
    "collapsed": false,
    "pycharm": {
     "name": "#%%\n"
    }
   }
  },
  {
   "cell_type": "code",
   "execution_count": 66,
   "outputs": [],
   "source": [
    "def create_AUPRC_curves(list_of_rpl):\n",
    "    plt.xlabel('Recall')\n",
    "    plt.ylabel('Precision')\n",
    "    for recall, prec, lbl in list_of_rpl:\n",
    "        plt.plot(recall,prec,marker='.', label=lbl)\n",
    "        plt.legend()"
   ],
   "metadata": {
    "collapsed": false,
    "pycharm": {
     "name": "#%%\n"
    }
   }
  },
  {
   "cell_type": "code",
   "execution_count": 68,
   "outputs": [
    {
     "data": {
      "text/plain": "<Figure size 432x288 with 1 Axes>",
      "image/png": "[encoded data removed]"
     },
     "metadata": {
      "needs_background": "light"
     },
     "output_type": "display_data"
    }
   ],
   "source": [
    "list_of_rpl = []\n",
    "\n",
    "classifier = search_dtc.best_estimator_\n",
    "prec, recall = create_AUPRC_values(classifier,X_test, y_test)\n",
    "list_of_rpl.append([recall, prec,'Decision Tree'])\n",
    "\n",
    "classifier = search_svc.best_estimator_\n",
    "prec, recall = create_AUPRC_values(classifier,X_test_svc, y_test_svc)\n",
    "list_of_rpl.append([recall,prec,'SVC'])\n",
    "\n",
    "create_AUPRC_curves(list_of_rpl)\n",
    "\n",
    "plt.show()"
   ],
   "metadata": {
    "collapsed": false,
    "pycharm": {
     "name": "#%%\n"
    }
   }
  },
  {
   "cell_type": "code",
   "execution_count": null,
   "outputs": [],
   "source": [
    "#Train on SMOTE\n",
    "sampled_dtc_x, sampled_dtc_y = smote_technique(X_train,y_train)\n",
    "sampled_svc_x, sampled_svc_y = smote_technique(X_train_svc,y_train_svc)\n",
    "\n",
    "search_dtc.fit(sampled_dtc_x, sampled_dtc_y)\n",
    "search_svc.fit(sampled_svc_x, sampled_svc_y)\n",
    "\n",
    "print('Validation')\n",
    "print('SMOTE')\n",
    "print('Decision tree:')\n",
    "print(search_dtc.best_score_)\n",
    "print(search_dtc.best_estimator_)\n",
    "\n",
    "print('SVC:')\n",
    "print(search_svc.best_score_)\n",
    "print(search_svc.best_estimator_)\n",
    "\n",
    "print('\\nTest')\n",
    "print('Decision tree:')\n",
    "print(roc_auc_score(y_test,search_dtc.best_estimator_.predict(X_test)))\n",
    "print('SVC:')\n",
    "print(roc_auc_score(y_test_svc,search_svc.best_estimator_.predict(X_test_svc)))"
   ],
   "metadata": {
    "collapsed": false,
    "pycharm": {
     "name": "#%%\n"
    }
   }
  },
  {
   "cell_type": "code",
   "execution_count": null,
   "outputs": [],
   "source": [
    "#Train on random oversampling\n",
    "sampled_dtc_x, sampled_dtc_y = random_oversampling_technique(X_train,y_train)\n",
    "sampled_svc_x, sampled_svc_y = random_oversampling_technique(X_train_svc,y_train_svc)\n",
    "\n",
    "search_dtc.fit(sampled_dtc_x, sampled_dtc_y)\n",
    "search_svc.fit(sampled_svc_x, sampled_svc_y)\n",
    "\n",
    "print('Validation')\n",
    "print('Random Oversampling')\n",
    "print('Decision tree:')\n",
    "print(search_dtc.best_score_)\n",
    "print(search_dtc.best_estimator_)\n",
    "\n",
    "print('SVC:')\n",
    "print(search_svc.best_score_)\n",
    "print(search_svc.best_estimator_)\n",
    "\n",
    "print('\\nTest')\n",
    "print('Decision tree:')\n",
    "print(roc_auc_score(y_test,search_dtc.best_estimator_.predict(X_test)))\n",
    "print('SVC:')\n",
    "print(roc_auc_score(y_test_svc,search_svc.best_estimator_.predict(X_test_svc)))"
   ],
   "metadata": {
    "collapsed": false,
    "pycharm": {
     "name": "#%%\n"
    }
   }
  },
  {
   "cell_type": "code",
   "execution_count": null,
   "outputs": [],
   "source": [
    "#Train on random undersampling\n",
    "sampled_dtc_x, sampled_dtc_y = random_undersampling_technique(X_train,y_train)\n",
    "sampled_svc_x, sampled_svc_y = random_undersampling_technique(X_train_svc,y_train_svc)\n",
    "\n",
    "search_dtc.fit(sampled_dtc_x, sampled_dtc_y)\n",
    "search_svc.fit(sampled_svc_x, sampled_svc_y)\n",
    "\n",
    "print('Validation')\n",
    "print('Random Undersampling')\n",
    "print('Decision tree:')\n",
    "print(search_dtc.best_score_)\n",
    "print(search_dtc.best_estimator_)\n",
    "\n",
    "print('SVC:')\n",
    "print(search_svc.best_score_)\n",
    "print(search_svc.best_estimator_)\n",
    "\n",
    "print('\\nTest')\n",
    "print('Decision tree:')\n",
    "print(roc_auc_score(y_test,search_dtc.best_estimator_.predict(X_test)))\n",
    "print('SVC:')\n",
    "print(roc_auc_score(y_test_svc,search_svc.best_estimator_.predict(X_test_svc)))"
   ],
   "metadata": {
    "collapsed": false,
    "pycharm": {
     "name": "#%%\n"
    }
   }
  },
  {
   "cell_type": "code",
   "execution_count": null,
   "outputs": [],
   "source": [
    "def print_test_output(predictions_dt, predictions_svc, true_pred_dt, true_pred_svc):\n",
    "    print('Test results:')\n",
    "    print('Decision Tree:')\n",
    "    print('AUC: ', roc_auc_score(true_pred_dt, predictions_dt))\n",
    "    print('AUPRC: ', average_precision_score(true_pred_dt, predictions_dt))\n",
    "    print('Recall: ', roc_auc_score(true_pred_dt, predictions_dt))\n",
    "    print('Precision: ', roc_auc_score(true_pred_dt, predictions_dt))\n",
    "\n",
    "    print('\\nSVC:')\n",
    "    print('AUC: ', roc_auc_score(true_pred_svc, predictions_svc))\n",
    "    print('AUPRC: ', average_precision_score(true_pred_svc, predictions_svc))\n",
    "    print('Recall: ', roc_auc_score(true_pred_svc, predictions_svc))\n",
    "    print('Precision: ', roc_auc_score(true_pred_svc, predictions_svc))"
   ],
   "metadata": {
    "collapsed": false,
    "pycharm": {
     "name": "#%%\n"
    }
   }
  },
  {
   "cell_type": "code",
   "execution_count": null,
   "outputs": [],
   "source": [
    "#new method, using smote, ros, rus\n",
    "sampling_techniques = [smote, ros, rus]\n",
    "svc = SVC(C=1000, gamma=0.001, random_state=12345, probability=True)\n",
    "dtc = DecisionTreeClassifier(min_samples_leaf=10, min_weight_fraction_leaf=0,random_state=12345)\n",
    "\n",
    "classifier_dtc = UnbalancedBagger.unbalanced_bagger(X_train, y_train, 10, sampling_techniques,base_estimator=dtc,random_seed=RANDOM_SEED)\n",
    "classifier_svc = UnbalancedBagger.unbalanced_bagger(X_train_svc, y_train_svc, 10, sampling_techniques,base_estimator=svc,random_seed=RANDOM_SEED)\n",
    "\n",
    "y_score_dtc = classifier_dtc(X_test)\n",
    "y_score_svc = classifier_svc(X_test_svc)\n",
    "\n",
    "print_test_output(predictions_dt=y_score_dtc, predictions_svc=y_score_svc,true_pred_dt=y_test, true_pred_svc=y_test_svc)"
   ],
   "metadata": {
    "collapsed": false,
    "pycharm": {
     "name": "#%%\n"
    }
   }
  },
  {
   "cell_type": "code",
   "execution_count": null,
   "outputs": [],
   "source": [
    "print('\\nTest')\n",
    "print('Decision tree:')\n",
    "print(roc_auc_score(y_test,y_score_dtc))\n",
    "print('SVC:')\n",
    "print(roc_auc_score(y_test_svc,y_score_svc))"
   ],
   "metadata": {
    "collapsed": false,
    "pycharm": {
     "name": "#%%\n"
    }
   }
  },
  {
   "cell_type": "code",
   "execution_count": null,
   "outputs": [],
   "source": [
    "#bagging no sampling\n",
    "svc = SVC(C=1000, gamma=0.001, random_state=12345,probability=True)\n",
    "dtc = DecisionTreeClassifier(min_samples_leaf=10, min_weight_fraction_leaf=0,random_state=12345)\n",
    "\n",
    "classifier_dtc = UnbalancedBaggerNoSampling.unbalanced_bagger_no_sampling(X_train, y_train, 10, base_estimator=dtc,random_seed=RANDOM_SEED)\n",
    "classifier_svc = UnbalancedBaggerNoSampling.unbalanced_bagger_no_sampling(X_train_svc, y_train_svc, 10, base_estimator=svc,random_seed=RANDOM_SEED)\n",
    "\n",
    "y_score_dtc = classifier_dtc(X_test)\n",
    "y_score_svc = classifier_svc(X_test_svc)\n",
    "\n",
    "print('\\nTest')\n",
    "print('Decision tree:')\n",
    "print(roc_auc_score(y_test,y_score_dtc))\n",
    "print('SVC:')\n",
    "print(roc_auc_score(y_test_svc,y_score_svc))"
   ],
   "metadata": {
    "collapsed": false,
    "pycharm": {
     "name": "#%%\n"
    }
   }
  },
  {
   "cell_type": "code",
   "execution_count": null,
   "outputs": [],
   "source": [
    "#testing\n",
    "sampling_techniques = [smote, ros, rus]\n",
    "dtc = DecisionTreeClassifier(min_samples_leaf=10, min_weight_fraction_leaf=0,random_state=12345)\n",
    "svc = SVC(probability=True)\n",
    "#predict, predict_proba = UnbalancedBagger.unbalanced_bagger(X_train, y_train, 10, sampling_techniques,base_estimator=dtc,random_seed=RANDOM_SEED)\n",
    "predict_svc, predict_proba_svc = UnbalancedBagger.unbalanced_bagger(X_train_svc, y_train_svc, 10, sampling_techniques,base_estimator=svc,random_seed=RANDOM_SEED)\n",
    "\n",
    "#y_test_score = predict_proba(X_test)\n",
    "y_test_score = predict_proba_svc(X_test_svc)\n",
    "\n",
    "print(y_test_score)"
   ],
   "metadata": {
    "collapsed": false,
    "pycharm": {
     "name": "#%%\n"
    }
   }
  }
 ],
 "metadata": {
  "kernelspec": {
   "display_name": "Python 3",
   "language": "python",
   "name": "python3"
  },
  "language_info": {
   "codemirror_mode": {
    "name": "ipython",
    "version": 2
   },
   "file_extension": ".py",
   "mimetype": "text/x-python",
   "name": "python",
   "nbconvert_exporter": "python",
   "pygments_lexer": "ipython2",
   "version": "2.7.6"
  },
  "pycharm": {
   "stem_cell": {
    "cell_type": "raw",
    "source": [
     "DAMI2 Project Report Code - Handling unbalanced datasets\n",
     "\n",
     "2020 Jimmy Ljungman\n",
     "\n",
     "This code imports a data set, preprocesses it, run a new sampling technique\n",
     "called 'Unbalanced_bagging' and measure its performance against other sampling techniques\n",
     "such as random oversampling and random undersampling.\n",
     "\n",
     "Unbalanced_bagging will be measured against the other techniques using the metrics AUPRC and time complexity.\n"
    ],
    "metadata": {
     "collapsed": false
    }
   }
  }
 },
 "nbformat": 4,
 "nbformat_minor": 0
}