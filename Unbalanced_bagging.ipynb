{
 "cells": [
  {
   "cell_type": "code",
   "execution_count": null,
   "metadata": {
    "collapsed": true
   },
   "outputs": [],
   "source": [
    "import numpy as np\n",
    "import pandas as pd\n",
    "import matplotlib.pyplot as plt\n",
    "from sklearn.tree import DecisionTreeClassifier\n",
    "from sklearn.model_selection import train_test_split\n",
    "from imblearn.over_sampling import RandomOverSampler\n",
    "from imblearn.under_sampling import RandomUnderSampler\n",
    "from sklearn.metrics import classification_report\n",
    "\n",
    "import random\n",
    "\n",
    "RANDOM_SEED = 12345"
   ]
  },
  {
   "cell_type": "code",
   "execution_count": null,
   "outputs": [],
   "source": [
    "ros = RandomOverSampler(random_state=RANDOM_SEED)\n",
    "rus = RandomUnderSampler(random_state=RANDOM_SEED)\n",
    "\n",
    "def unbalanced_bagger(M, x, y):\n",
    "    #M = Amount of base_learners, x = train set, y = class labels\n",
    "    base_learners = []\n",
    "    sampling_techniques = [ros, rus]\n",
    "    for i in range(M):\n",
    "        #boostrap replica\n",
    "        rnd = np.random.choice(x.shape[0], size=x.shape[0])\n",
    "        x_bootstrap = x.iloc[rnd,:] #WHY?\n",
    "        y_bootstrap = y.iloc[rnd]\n",
    "        #sample the replica with random sample technique\n",
    "        technique = random.randint(0,len(sampling_techniques)-1)\n",
    "        x_sample, y_sample = sampling_techniques[technique].fit_resample(x_bootstrap,y_bootstrap)\n",
    "        #train\n",
    "        clf = DecisionTreeClassifier()\n",
    "        clf.fit(x_sample,y_sample)\n",
    "        base_learners.append(clf)\n",
    "\n",
    "    def predict(x):\n",
    "        predictions = np.zeros([x.shape[0], len(base_learners)])\n",
    "        print(predictions)\n",
    "        for i in range(len(base_learners)):\n",
    "            predictions[:,i] = base_learners[i].predict(x)\n",
    "        return np.sign(np.sum(predictions, axis=1))\n",
    "    return predict"
   ],
   "metadata": {
    "collapsed": false,
    "pycharm": {
     "name": "#%%\n"
    }
   }
  }
 ],
 "metadata": {
  "kernelspec": {
   "display_name": "Python 3",
   "language": "python",
   "name": "python3"
  },
  "language_info": {
   "codemirror_mode": {
    "name": "ipython",
    "version": 2
   },
   "file_extension": ".py",
   "mimetype": "text/x-python",
   "name": "python",
   "nbconvert_exporter": "python",
   "pygments_lexer": "ipython2",
   "version": "2.7.6"
  }
 },
 "nbformat": 4,
 "nbformat_minor": 0
}