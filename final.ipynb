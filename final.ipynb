{
 "cells": [
  {
   "cell_type": "markdown",
   "metadata": {
    "collapsed": true,
    "pycharm": {
     "name": "#%% md\n"
    }
   },
   "source": [
    "______________\n",
    "Importing necessary libraries and setting global variables"
   ]
  },
  {
   "cell_type": "code",
   "execution_count": 12,
   "outputs": [],
   "source": [
    "import numpy as np\n",
    "import pandas as pd\n",
    "import matplotlib.pyplot as plt\n",
    "from sklearn.tree import DecisionTreeClassifier\n",
    "from sklearn.model_selection import train_test_split\n",
    "from imblearn.over_sampling import RandomOverSampler, SMOTE\n",
    "from imblearn.under_sampling import RandomUnderSampler\n",
    "from sklearn.metrics import classification_report\n",
    "from scipy.stats import mode\n",
    "from sklearn.metrics import average_precision_score\n",
    "import random\n",
    "from sklearn.metrics import plot_precision_recall_curve\n",
    "from sklearn.preprocessing import StandardScaler\n",
    "from models import UnbalancedBagger, UnbalancedBaggerNoSampling\n",
    "from sklearn.svm import SVC\n",
    "from sklearn.metrics import roc_auc_score\n",
    "\n",
    "RANDOM_SEED = 12345"
   ],
   "metadata": {
    "collapsed": false,
    "pycharm": {
     "name": "#%%\n"
    }
   }
  },
  {
   "cell_type": "code",
   "execution_count": 13,
   "outputs": [],
   "source": [
    "original_df = pd.read_csv(\"datasets/diabetes.csv\")\n"
   ],
   "metadata": {
    "collapsed": false,
    "pycharm": {
     "name": "#%%\n"
    }
   }
  },
  {
   "cell_type": "code",
   "execution_count": 14,
   "outputs": [
    {
     "data": {
      "text/plain": "       Pregnancies     Glucose  BloodPressure  SkinThickness     Insulin  \\\ncount   768.000000  768.000000     768.000000     768.000000  768.000000   \nmean      3.845052  120.894531      69.105469      20.536458   79.799479   \nstd       3.369578   31.972618      19.355807      15.952218  115.244002   \nmin       0.000000    0.000000       0.000000       0.000000    0.000000   \n25%       1.000000   99.000000      62.000000       0.000000    0.000000   \n50%       3.000000  117.000000      72.000000      23.000000   30.500000   \n75%       6.000000  140.250000      80.000000      32.000000  127.250000   \nmax      17.000000  199.000000     122.000000      99.000000  846.000000   \n\n              BMI  DiabetesPedigreeFunction         Age     Outcome  \ncount  768.000000                768.000000  768.000000  768.000000  \nmean    31.992578                  0.471876   33.240885    0.348958  \nstd      7.884160                  0.331329   11.760232    0.476951  \nmin      0.000000                  0.078000   21.000000    0.000000  \n25%     27.300000                  0.243750   24.000000    0.000000  \n50%     32.000000                  0.372500   29.000000    0.000000  \n75%     36.600000                  0.626250   41.000000    1.000000  \nmax     67.100000                  2.420000   81.000000    1.000000  ",
      "text/html": "<div>\n<style scoped>\n    .dataframe tbody tr th:only-of-type {\n        vertical-align: middle;\n    }\n\n    .dataframe tbody tr th {\n        vertical-align: top;\n    }\n\n    .dataframe thead th {\n        text-align: right;\n    }\n</style>\n<table border=\"1\" class=\"dataframe\">\n  <thead>\n    <tr style=\"text-align: right;\">\n      <th></th>\n      <th>Pregnancies</th>\n      <th>Glucose</th>\n      <th>BloodPressure</th>\n      <th>SkinThickness</th>\n      <th>Insulin</th>\n      <th>BMI</th>\n      <th>DiabetesPedigreeFunction</th>\n      <th>Age</th>\n      <th>Outcome</th>\n    </tr>\n  </thead>\n  <tbody>\n    <tr>\n      <th>count</th>\n      <td>768.000000</td>\n      <td>768.000000</td>\n      <td>768.000000</td>\n      <td>768.000000</td>\n      <td>768.000000</td>\n      <td>768.000000</td>\n      <td>768.000000</td>\n      <td>768.000000</td>\n      <td>768.000000</td>\n    </tr>\n    <tr>\n      <th>mean</th>\n      <td>3.845052</td>\n      <td>120.894531</td>\n      <td>69.105469</td>\n      <td>20.536458</td>\n      <td>79.799479</td>\n      <td>31.992578</td>\n      <td>0.471876</td>\n      <td>33.240885</td>\n      <td>0.348958</td>\n    </tr>\n    <tr>\n      <th>std</th>\n      <td>3.369578</td>\n      <td>31.972618</td>\n      <td>19.355807</td>\n      <td>15.952218</td>\n      <td>115.244002</td>\n      <td>7.884160</td>\n      <td>0.331329</td>\n      <td>11.760232</td>\n      <td>0.476951</td>\n    </tr>\n    <tr>\n      <th>min</th>\n      <td>0.000000</td>\n      <td>0.000000</td>\n      <td>0.000000</td>\n      <td>0.000000</td>\n      <td>0.000000</td>\n      <td>0.000000</td>\n      <td>0.078000</td>\n      <td>21.000000</td>\n      <td>0.000000</td>\n    </tr>\n    <tr>\n      <th>25%</th>\n      <td>1.000000</td>\n      <td>99.000000</td>\n      <td>62.000000</td>\n      <td>0.000000</td>\n      <td>0.000000</td>\n      <td>27.300000</td>\n      <td>0.243750</td>\n      <td>24.000000</td>\n      <td>0.000000</td>\n    </tr>\n    <tr>\n      <th>50%</th>\n      <td>3.000000</td>\n      <td>117.000000</td>\n      <td>72.000000</td>\n      <td>23.000000</td>\n      <td>30.500000</td>\n      <td>32.000000</td>\n      <td>0.372500</td>\n      <td>29.000000</td>\n      <td>0.000000</td>\n    </tr>\n    <tr>\n      <th>75%</th>\n      <td>6.000000</td>\n      <td>140.250000</td>\n      <td>80.000000</td>\n      <td>32.000000</td>\n      <td>127.250000</td>\n      <td>36.600000</td>\n      <td>0.626250</td>\n      <td>41.000000</td>\n      <td>1.000000</td>\n    </tr>\n    <tr>\n      <th>max</th>\n      <td>17.000000</td>\n      <td>199.000000</td>\n      <td>122.000000</td>\n      <td>99.000000</td>\n      <td>846.000000</td>\n      <td>67.100000</td>\n      <td>2.420000</td>\n      <td>81.000000</td>\n      <td>1.000000</td>\n    </tr>\n  </tbody>\n</table>\n</div>"
     },
     "execution_count": 14,
     "metadata": {},
     "output_type": "execute_result"
    }
   ],
   "source": [
    "original_df.describe()\n",
    "#weird that \"Glucose\", \"BloodPressure\", \"SkinThickness\", \"Insulin\", \"BMI\" have zero values, imputate mean values"
   ],
   "metadata": {
    "collapsed": false,
    "pycharm": {
     "name": "#%%\n"
    }
   }
  },
  {
   "cell_type": "code",
   "execution_count": 15,
   "outputs": [
    {
     "name": "stdout",
     "output_type": "stream",
     "text": [
      "Amount of 0 values:\n",
      "Glucose:  5\n",
      "BloodPressure:  35\n",
      "SkinThickness:  227\n",
      "Insulin:  374\n",
      "BMI:  11\n"
     ]
    }
   ],
   "source": [
    "print(\"Amount of 0 values:\")\n",
    "print(\"Glucose: \", len(original_df[original_df[\"Glucose\"] == 0]))\n",
    "print(\"BloodPressure: \", len(original_df[original_df[\"BloodPressure\"] == 0]))\n",
    "print(\"SkinThickness: \", len(original_df[original_df[\"SkinThickness\"] == 0]))\n",
    "print(\"Insulin: \", len(original_df[original_df[\"Insulin\"] == 0]))\n",
    "print(\"BMI: \", len(original_df[original_df[\"BMI\"] == 0]))"
   ],
   "metadata": {
    "collapsed": false,
    "pycharm": {
     "name": "#%%\n"
    }
   }
  },
  {
   "cell_type": "code",
   "execution_count": 16,
   "outputs": [],
   "source": [
    "def imputation(data, columns):\n",
    "    for c in columns:\n",
    "         if c in data.columns:\n",
    "             data[c].replace(0, np.nan,inplace=True)\n",
    "             data[c].fillna(data[c].mean(), inplace=True)\n",
    "    return data\n"
   ],
   "metadata": {
    "collapsed": false,
    "pycharm": {
     "name": "#%%\n"
    }
   }
  },
  {
   "cell_type": "code",
   "execution_count": 17,
   "outputs": [
    {
     "data": {
      "text/plain": "       Pregnancies     Glucose  BloodPressure  SkinThickness     Insulin  \\\ncount   768.000000  768.000000     768.000000     768.000000  768.000000   \nmean      3.845052  121.686763      72.405184      29.153420  155.548223   \nstd       3.369578   30.435949      12.096346       8.790942   85.021108   \nmin       0.000000   44.000000      24.000000       7.000000   14.000000   \n25%       1.000000   99.750000      64.000000      25.000000  121.500000   \n50%       3.000000  117.000000      72.202592      29.153420  155.548223   \n75%       6.000000  140.250000      80.000000      32.000000  155.548223   \nmax      17.000000  199.000000     122.000000      99.000000  846.000000   \n\n              BMI  DiabetesPedigreeFunction         Age     Outcome  \ncount  768.000000                768.000000  768.000000  768.000000  \nmean    32.457464                  0.471876   33.240885    0.348958  \nstd      6.875151                  0.331329   11.760232    0.476951  \nmin     18.200000                  0.078000   21.000000    0.000000  \n25%     27.500000                  0.243750   24.000000    0.000000  \n50%     32.400000                  0.372500   29.000000    0.000000  \n75%     36.600000                  0.626250   41.000000    1.000000  \nmax     67.100000                  2.420000   81.000000    1.000000  ",
      "text/html": "<div>\n<style scoped>\n    .dataframe tbody tr th:only-of-type {\n        vertical-align: middle;\n    }\n\n    .dataframe tbody tr th {\n        vertical-align: top;\n    }\n\n    .dataframe thead th {\n        text-align: right;\n    }\n</style>\n<table border=\"1\" class=\"dataframe\">\n  <thead>\n    <tr style=\"text-align: right;\">\n      <th></th>\n      <th>Pregnancies</th>\n      <th>Glucose</th>\n      <th>BloodPressure</th>\n      <th>SkinThickness</th>\n      <th>Insulin</th>\n      <th>BMI</th>\n      <th>DiabetesPedigreeFunction</th>\n      <th>Age</th>\n      <th>Outcome</th>\n    </tr>\n  </thead>\n  <tbody>\n    <tr>\n      <th>count</th>\n      <td>768.000000</td>\n      <td>768.000000</td>\n      <td>768.000000</td>\n      <td>768.000000</td>\n      <td>768.000000</td>\n      <td>768.000000</td>\n      <td>768.000000</td>\n      <td>768.000000</td>\n      <td>768.000000</td>\n    </tr>\n    <tr>\n      <th>mean</th>\n      <td>3.845052</td>\n      <td>121.686763</td>\n      <td>72.405184</td>\n      <td>29.153420</td>\n      <td>155.548223</td>\n      <td>32.457464</td>\n      <td>0.471876</td>\n      <td>33.240885</td>\n      <td>0.348958</td>\n    </tr>\n    <tr>\n      <th>std</th>\n      <td>3.369578</td>\n      <td>30.435949</td>\n      <td>12.096346</td>\n      <td>8.790942</td>\n      <td>85.021108</td>\n      <td>6.875151</td>\n      <td>0.331329</td>\n      <td>11.760232</td>\n      <td>0.476951</td>\n    </tr>\n    <tr>\n      <th>min</th>\n      <td>0.000000</td>\n      <td>44.000000</td>\n      <td>24.000000</td>\n      <td>7.000000</td>\n      <td>14.000000</td>\n      <td>18.200000</td>\n      <td>0.078000</td>\n      <td>21.000000</td>\n      <td>0.000000</td>\n    </tr>\n    <tr>\n      <th>25%</th>\n      <td>1.000000</td>\n      <td>99.750000</td>\n      <td>64.000000</td>\n      <td>25.000000</td>\n      <td>121.500000</td>\n      <td>27.500000</td>\n      <td>0.243750</td>\n      <td>24.000000</td>\n      <td>0.000000</td>\n    </tr>\n    <tr>\n      <th>50%</th>\n      <td>3.000000</td>\n      <td>117.000000</td>\n      <td>72.202592</td>\n      <td>29.153420</td>\n      <td>155.548223</td>\n      <td>32.400000</td>\n      <td>0.372500</td>\n      <td>29.000000</td>\n      <td>0.000000</td>\n    </tr>\n    <tr>\n      <th>75%</th>\n      <td>6.000000</td>\n      <td>140.250000</td>\n      <td>80.000000</td>\n      <td>32.000000</td>\n      <td>155.548223</td>\n      <td>36.600000</td>\n      <td>0.626250</td>\n      <td>41.000000</td>\n      <td>1.000000</td>\n    </tr>\n    <tr>\n      <th>max</th>\n      <td>17.000000</td>\n      <td>199.000000</td>\n      <td>122.000000</td>\n      <td>99.000000</td>\n      <td>846.000000</td>\n      <td>67.100000</td>\n      <td>2.420000</td>\n      <td>81.000000</td>\n      <td>1.000000</td>\n    </tr>\n  </tbody>\n</table>\n</div>"
     },
     "execution_count": 17,
     "metadata": {},
     "output_type": "execute_result"
    }
   ],
   "source": [
    "original_df = imputation(original_df, [\"Glucose\", \"BloodPressure\", \"SkinThickness\", \"Insulin\", \"BMI\"])\n",
    "\n",
    "original_df.describe()"
   ],
   "metadata": {
    "collapsed": false,
    "pycharm": {
     "name": "#%%\n"
    }
   }
  },
  {
   "cell_type": "code",
   "execution_count": 18,
   "outputs": [
    {
     "data": {
      "text/plain": "<Figure size 864x576 with 1 Axes>",
      "image/png": "[encoded data removed]"
     },
     "metadata": {
      "needs_background": "light"
     },
     "output_type": "display_data"
    }
   ],
   "source": [
    "total_labels = original_df.Outcome.value_counts()\n",
    "x_labels = [0,1]\n",
    "\n",
    "plt.figure(figsize=(12,8))\n",
    "ax = total_labels.plot(kind='bar')\n",
    "ax.set_title('Class label distribution (Amount)')\n",
    "ax.set_xlabel('Labels')\n",
    "ax.set_ylabel('Percentage')\n",
    "ax.set_xticklabels(x_labels)\n",
    "\n",
    "rects = ax.patches\n",
    "\n",
    "for rect,lbl in zip(rects, total_labels):\n",
    "    height = rect.get_height()\n",
    "    ax.text(rect.get_x() + rect.get_width() / 2, height\n",
    "            , lbl, ha='center', va='bottom')"
   ],
   "metadata": {
    "collapsed": false,
    "pycharm": {
     "name": "#%%\n"
    }
   }
  },
  {
   "cell_type": "code",
   "execution_count": 19,
   "outputs": [
    {
     "data": {
      "text/plain": "<Figure size 864x576 with 1 Axes>",
      "image/png": "[encoded data removed]"
     },
     "metadata": {
      "needs_background": "light"
     },
     "output_type": "display_data"
    }
   ],
   "source": [
    "x_labels = [0,1]\n",
    "total_labels_percentage = original_df.Outcome.value_counts()/len(original_df)\n",
    "\n",
    "plt.figure(figsize=(12,8))\n",
    "ax = total_labels_percentage.plot(kind='bar')\n",
    "ax.set_title('Class label distribution (%)')\n",
    "ax.set_xlabel('Labels')\n",
    "ax.set_ylabel('Percentage')\n",
    "ax.set_xticklabels(x_labels)\n",
    "\n",
    "rects = ax.patches\n",
    "labels = []\n",
    "\n",
    "for lbl in total_labels_percentage:\n",
    "    labels.append(\"{0:.2f}\".format(lbl))\n",
    "\n",
    "for rect,lbl in zip(rects, labels):\n",
    "    height = rect.get_height()\n",
    "    ax.text(rect.get_x() + rect.get_width() / 2, height\n",
    "            , lbl, ha='center', va='bottom')"
   ],
   "metadata": {
    "collapsed": false,
    "pycharm": {
     "name": "#%%\n"
    }
   }
  },
  {
   "cell_type": "code",
   "execution_count": 20,
   "outputs": [],
   "source": [
    "#we can now split attributes and class label\n",
    "X = original_df.drop('Outcome', axis=1)\n",
    "y = original_df.Outcome\n",
    "\n",
    "X.describe()\n",
    "\n",
    "#data_standardized used for SVC\n",
    "scaler = StandardScaler()\n",
    "data_standardized = scaler.fit_transform(X)"
   ],
   "metadata": {
    "collapsed": false,
    "pycharm": {
     "name": "#%%\n"
    }
   }
  },
  {
   "cell_type": "code",
   "execution_count": 21,
   "outputs": [],
   "source": [
    "X_training,X_testing,y_training,y_testing, = train_test_split(X, y, test_size=0.3, random_state=RANDOM_SEED)\n",
    "x_train, x_val, y_train, y_val = train_test_split(X_training, y_training, test_size=0.3, random_state=RANDOM_SEED)\n",
    "\n",
    "#standardized split for SVC\n",
    "X_training_svc,X_testing_svc,y_training_svc,y_testing_svc, = train_test_split(X, y, test_size=0.3, random_state=RANDOM_SEED)\n",
    "x_train_svc, x_val_svc, y_train_svc, y_val_svc = train_test_split(X_training, y_training, test_size=0.3, random_state=RANDOM_SEED)"
   ],
   "metadata": {
    "collapsed": false,
    "pycharm": {
     "name": "#%%\n"
    }
   }
  },
  {
   "cell_type": "code",
   "execution_count": 22,
   "outputs": [],
   "source": [
    "#Methods for sampling\n",
    "ros = RandomOverSampler(random_state=RANDOM_SEED)\n",
    "rus = RandomUnderSampler(random_state=RANDOM_SEED)\n",
    "smote = SMOTE(random_state=RANDOM_SEED, sampling_strategy='minority')\n",
    "\n",
    "#Classifiers\n",
    "dtc = DecisionTreeClassifier(random_state=RANDOM_SEED)\n",
    "svc = SVC(random_state=RANDOM_SEED)\n"
   ],
   "metadata": {
    "collapsed": false,
    "pycharm": {
     "name": "#%%\n"
    }
   }
  },
  {
   "cell_type": "code",
   "execution_count": 23,
   "outputs": [],
   "source": [
    "def smote_technique(X,y):\n",
    "    x_sample, y_sample = smote.fit_sample(X, y)\n",
    "    return x_sample,y_sample\n",
    "\n",
    "def random_oversampling_technique(X,y):\n",
    "    x_sample, y_sample = ros.fit_sample(x_train, y_train)\n",
    "    return x_sample,y_sample\n",
    "\n",
    "def random_undersampling_technique(X,y):\n",
    "    x_sample, y_sample = rus.fit_sample(x_train, y_train)\n",
    "    return x_sample,y_sample"
   ],
   "metadata": {
    "collapsed": false,
    "pycharm": {
     "name": "#%%\n"
    }
   }
  },
  {
   "cell_type": "code",
   "execution_count": 24,
   "outputs": [
    {
     "name": "stdout",
     "output_type": "stream",
     "text": [
      "Data balanced by Unbalanced Bagger\n",
      "\n",
      "Validation Results (Decision Tree):\n",
      "              precision    recall  f1-score   support\n",
      "\n",
      "           0       0.75      0.77      0.76       102\n",
      "           1       0.59      0.55      0.57        60\n",
      "\n",
      "    accuracy                           0.69       162\n",
      "   macro avg       0.67      0.66      0.66       162\n",
      "weighted avg       0.69      0.69      0.69       162\n",
      "\n",
      "\n",
      "Validation Results (SVC):\n",
      "              precision    recall  f1-score   support\n",
      "\n",
      "           0       0.78      0.76      0.77       102\n",
      "           1       0.61      0.63      0.62        60\n",
      "\n",
      "    accuracy                           0.72       162\n",
      "   macro avg       0.70      0.70      0.70       162\n",
      "weighted avg       0.72      0.72      0.72       162\n",
      "\n",
      "\n",
      "Test Results (Decision Tree):\n",
      "              precision    recall  f1-score   support\n",
      "\n",
      "           0       0.82      0.81      0.81       158\n",
      "           1       0.59      0.60      0.60        73\n",
      "\n",
      "    accuracy                           0.74       231\n",
      "   macro avg       0.70      0.71      0.71       231\n",
      "weighted avg       0.75      0.74      0.75       231\n",
      "\n",
      "AUPRC:  0.48392690858444287\n",
      "AUC:  0.7064331541529391\n",
      "\n",
      "Test Results (SVC):\n",
      "              precision    recall  f1-score   support\n",
      "\n",
      "           0       0.83      0.82      0.83       158\n",
      "           1       0.62      0.63      0.63        73\n",
      "\n",
      "    accuracy                           0.76       231\n",
      "   macro avg       0.72      0.73      0.73       231\n",
      "weighted avg       0.76      0.76      0.76       231\n",
      "\n",
      "AUPRC:  0.5085898921515359\n",
      "AUC:  0.726460898213976\n"
     ]
    }
   ],
   "source": [
    "#new method, using ros, rus and smote\n",
    "sampling_techniques = [ros, rus, smote]\n",
    "\n",
    "classifier_dtc = UnbalancedBagger.unbalanced_bagger(x_train, y_train, 10, sampling_techniques,base_estimator=dtc,random_seed=RANDOM_SEED)\n",
    "classifier_svc = UnbalancedBagger.unbalanced_bagger(x_train_svc, y_train_svc, 10, sampling_techniques,base_estimator=svc,random_seed=RANDOM_SEED)\n",
    "\n",
    "y_score_dtc = classifier_dtc(X_testing)\n",
    "y_score_svc = classifier_svc(X_testing_svc)\n",
    "\n",
    "print(\"Data balanced by Unbalanced Bagger\")\n",
    "print(\"\\nValidation Results (Decision Tree):\")\n",
    "print(classification_report(y_val, classifier_dtc(x_val)))\n",
    "print(\"\\nValidation Results (SVC):\")\n",
    "print(classification_report(y_val_svc, classifier_svc(x_val_svc)))\n",
    "\n",
    "print(\"\\nTest Results (Decision Tree):\")\n",
    "print(classification_report(y_testing, y_score_dtc))\n",
    "auprc_dtc = average_precision_score(y_testing,y_score_dtc)\n",
    "auc_dtc = roc_auc_score(y_testing,y_score_dtc)\n",
    "print(\"AUPRC: \", auprc_dtc)\n",
    "print(\"AUC: \", auc_dtc)\n",
    "print(\"\\nTest Results (SVC):\")\n",
    "print(classification_report(y_testing_svc, y_score_svc))\n",
    "auprc_svc = average_precision_score(y_testing,y_score_svc)\n",
    "auc_svc = roc_auc_score(y_testing,y_score_svc)\n",
    "print(\"AUPRC: \", auprc_svc)\n",
    "print(\"AUC: \", auc_svc)"
   ],
   "metadata": {
    "collapsed": false,
    "pycharm": {
     "name": "#%%\n"
    }
   }
  },
  {
   "cell_type": "code",
   "execution_count": 25,
   "outputs": [
    {
     "name": "stdout",
     "output_type": "stream",
     "text": [
      "Data balanced by Unbalanced Bagger (Only Oversampling)\n",
      "\n",
      "Validation Results (Decision Tree):\n",
      "              precision    recall  f1-score   support\n",
      "\n",
      "           0       0.72      0.74      0.73       102\n",
      "           1       0.53      0.52      0.53        60\n",
      "\n",
      "    accuracy                           0.65       162\n",
      "   macro avg       0.63      0.63      0.63       162\n",
      "weighted avg       0.65      0.65      0.65       162\n",
      "\n",
      "\n",
      "Validation Results (SVC):\n",
      "              precision    recall  f1-score   support\n",
      "\n",
      "           0       0.80      0.77      0.79       102\n",
      "           1       0.63      0.67      0.65        60\n",
      "\n",
      "    accuracy                           0.73       162\n",
      "   macro avg       0.72      0.72      0.72       162\n",
      "weighted avg       0.74      0.73      0.74       162\n",
      "\n",
      "\n",
      "Test Results (Decision Tree):\n",
      "              precision    recall  f1-score   support\n",
      "\n",
      "           0       0.81      0.85      0.83       158\n",
      "           1       0.63      0.56      0.59        73\n",
      "\n",
      "    accuracy                           0.76       231\n",
      "   macro avg       0.72      0.70      0.71       231\n",
      "weighted avg       0.75      0.76      0.75       231\n",
      "\n",
      "AUPRC:  0.49279578868619967\n",
      "AUC:  0.7048725507196116\n",
      "\n",
      "Test Results (SVC):\n",
      "              precision    recall  f1-score   support\n",
      "\n",
      "           0       0.86      0.81      0.83       158\n",
      "           1       0.63      0.71      0.67        73\n",
      "\n",
      "    accuracy                           0.78       231\n",
      "   macro avg       0.75      0.76      0.75       231\n",
      "weighted avg       0.79      0.78      0.78       231\n",
      "\n",
      "AUPRC:  0.5426297724994684\n",
      "AUC:  0.7612276747008844\n"
     ]
    }
   ],
   "source": [
    "#new method, using ros\n",
    "sampling_techniques = [ros]\n",
    "\n",
    "classifier_dtc = UnbalancedBagger.unbalanced_bagger(x_train, y_train, 10, sampling_techniques,base_estimator=dtc,random_seed=RANDOM_SEED)\n",
    "classifier_svc = UnbalancedBagger.unbalanced_bagger(x_train_svc, y_train_svc, 10, sampling_techniques,base_estimator=svc,random_seed=RANDOM_SEED)\n",
    "\n",
    "y_score_dtc = classifier_dtc(X_testing)\n",
    "y_score_svc = classifier_svc(X_testing_svc)\n",
    "\n",
    "print(\"Data balanced by Unbalanced Bagger (Only Oversampling)\")\n",
    "print(\"\\nValidation Results (Decision Tree):\")\n",
    "print(classification_report(y_val, classifier_dtc(x_val)))\n",
    "print(\"\\nValidation Results (SVC):\")\n",
    "print(classification_report(y_val_svc, classifier_svc(x_val_svc)))\n",
    "\n",
    "print(\"\\nTest Results (Decision Tree):\")\n",
    "print(classification_report(y_testing, y_score_dtc))\n",
    "auprc_dtc = average_precision_score(y_testing,y_score_dtc)\n",
    "auc_dtc = roc_auc_score(y_testing,y_score_dtc)\n",
    "print(\"AUPRC: \", auprc_dtc)\n",
    "print(\"AUC: \", auc_dtc)\n",
    "print(\"\\nTest Results (SVC):\")\n",
    "print(classification_report(y_testing_svc, y_score_svc))\n",
    "auprc_svc = average_precision_score(y_testing,y_score_svc)\n",
    "auc_svc = roc_auc_score(y_testing,y_score_svc)\n",
    "print(\"AUPRC: \", auprc_svc)\n",
    "print(\"AUC: \", auc_svc)"
   ],
   "metadata": {
    "collapsed": false,
    "pycharm": {
     "name": "#%%\n"
    }
   }
  },
  {
   "cell_type": "code",
   "execution_count": 26,
   "outputs": [
    {
     "name": "stdout",
     "output_type": "stream",
     "text": [
      "Data balanced by Unbalanced Bagger (Only Undersampling)\n",
      "\n",
      "Validation Results (Decision Tree):\n",
      "              precision    recall  f1-score   support\n",
      "\n",
      "           0       0.75      0.75      0.75       102\n",
      "           1       0.58      0.57      0.57        60\n",
      "\n",
      "    accuracy                           0.69       162\n",
      "   macro avg       0.66      0.66      0.66       162\n",
      "weighted avg       0.68      0.69      0.68       162\n",
      "\n",
      "\n",
      "Validation Results (SVC):\n",
      "              precision    recall  f1-score   support\n",
      "\n",
      "           0       0.77      0.77      0.77       102\n",
      "           1       0.61      0.60      0.61        60\n",
      "\n",
      "    accuracy                           0.71       162\n",
      "   macro avg       0.69      0.69      0.69       162\n",
      "weighted avg       0.71      0.71      0.71       162\n",
      "\n",
      "\n",
      "Test Results (Decision Tree):\n",
      "              precision    recall  f1-score   support\n",
      "\n",
      "           0       0.87      0.78      0.82       158\n",
      "           1       0.61      0.75      0.67        73\n",
      "\n",
      "    accuracy                           0.77       231\n",
      "   macro avg       0.74      0.77      0.75       231\n",
      "weighted avg       0.79      0.77      0.78       231\n",
      "\n",
      "AUPRC:  0.5383482575263397\n",
      "AUC:  0.7659528350962372\n",
      "\n",
      "Test Results (SVC):\n",
      "              precision    recall  f1-score   support\n",
      "\n",
      "           0       0.84      0.84      0.84       158\n",
      "           1       0.65      0.66      0.65        73\n",
      "\n",
      "    accuracy                           0.78       231\n",
      "   macro avg       0.74      0.75      0.75       231\n",
      "weighted avg       0.78      0.78      0.78       231\n",
      "\n",
      "AUPRC:  0.5347338087064115\n",
      "AUC:  0.746488642275013\n"
     ]
    }
   ],
   "source": [
    "#new method, using rus\n",
    "sampling_techniques = [rus]\n",
    "\n",
    "classifier_dtc = UnbalancedBagger.unbalanced_bagger(x_train, y_train, 10, sampling_techniques,base_estimator=dtc,random_seed=RANDOM_SEED)\n",
    "classifier_svc = UnbalancedBagger.unbalanced_bagger(x_train_svc, y_train_svc, 10, sampling_techniques,base_estimator=svc,random_seed=RANDOM_SEED)\n",
    "\n",
    "y_score_dtc = classifier_dtc(X_testing)\n",
    "y_score_svc = classifier_svc(X_testing_svc)\n",
    "\n",
    "print(\"Data balanced by Unbalanced Bagger (Only Undersampling)\")\n",
    "print(\"\\nValidation Results (Decision Tree):\")\n",
    "print(classification_report(y_val, classifier_dtc(x_val)))\n",
    "print(\"\\nValidation Results (SVC):\")\n",
    "print(classification_report(y_val_svc, classifier_svc(x_val_svc)))\n",
    "\n",
    "print(\"\\nTest Results (Decision Tree):\")\n",
    "print(classification_report(y_testing, y_score_dtc))\n",
    "auprc_dtc = average_precision_score(y_testing,y_score_dtc)\n",
    "auc_dtc = roc_auc_score(y_testing,y_score_dtc)\n",
    "print(\"AUPRC: \", auprc_dtc)\n",
    "print(\"AUC: \", auc_dtc)\n",
    "print(\"\\nTest Results (SVC):\")\n",
    "print(classification_report(y_testing_svc, y_score_svc))\n",
    "auprc_svc = average_precision_score(y_testing,y_score_svc)\n",
    "auc_svc = roc_auc_score(y_testing,y_score_svc)\n",
    "print(\"AUPRC: \", auprc_svc)\n",
    "print(\"AUC: \", auc_svc)"
   ],
   "metadata": {
    "collapsed": false,
    "pycharm": {
     "name": "#%%\n"
    }
   }
  },
  {
   "cell_type": "code",
   "execution_count": 27,
   "outputs": [
    {
     "name": "stdout",
     "output_type": "stream",
     "text": [
      "Data balanced by Unbalanced Bagger (Only SMOTE)\n",
      "\n",
      "Validation Results (Decision Tree):\n",
      "              precision    recall  f1-score   support\n",
      "\n",
      "           0       0.72      0.77      0.75       102\n",
      "           1       0.57      0.50      0.53        60\n",
      "\n",
      "    accuracy                           0.67       162\n",
      "   macro avg       0.65      0.64      0.64       162\n",
      "weighted avg       0.67      0.67      0.67       162\n",
      "\n",
      "\n",
      "Validation Results (SVC):\n",
      "              precision    recall  f1-score   support\n",
      "\n",
      "           0       0.81      0.80      0.81       102\n",
      "           1       0.67      0.68      0.68        60\n",
      "\n",
      "    accuracy                           0.76       162\n",
      "   macro avg       0.74      0.74      0.74       162\n",
      "weighted avg       0.76      0.76      0.76       162\n",
      "\n",
      "\n",
      "Test Results (Decision Tree):\n",
      "              precision    recall  f1-score   support\n",
      "\n",
      "           0       0.80      0.76      0.78       158\n",
      "           1       0.53      0.59      0.56        73\n",
      "\n",
      "    accuracy                           0.71       231\n",
      "   macro avg       0.67      0.67      0.67       231\n",
      "weighted avg       0.71      0.71      0.71       231\n",
      "\n",
      "AUPRC:  0.44257095855269374\n",
      "AUC:  0.6742673833882435\n",
      "\n",
      "Test Results (SVC):\n",
      "              precision    recall  f1-score   support\n",
      "\n",
      "           0       0.84      0.81      0.82       158\n",
      "           1       0.62      0.66      0.64        73\n",
      "\n",
      "    accuracy                           0.76       231\n",
      "   macro avg       0.73      0.73      0.73       231\n",
      "weighted avg       0.77      0.76      0.76       231\n",
      "\n",
      "AUPRC:  0.5128615676560883\n",
      "AUC:  0.7338304144269118\n"
     ]
    }
   ],
   "source": [
    "#new method, using smote\n",
    "sampling_techniques = [smote]\n",
    "\n",
    "classifier_dtc = UnbalancedBagger.unbalanced_bagger(x_train, y_train, 10, sampling_techniques,base_estimator=dtc,random_seed=RANDOM_SEED)\n",
    "classifier_svc = UnbalancedBagger.unbalanced_bagger(x_train_svc, y_train_svc, 10, sampling_techniques,base_estimator=svc,random_seed=RANDOM_SEED)\n",
    "\n",
    "y_score_dtc = classifier_dtc(X_testing)\n",
    "y_score_svc = classifier_svc(X_testing_svc)\n",
    "\n",
    "print(\"Data balanced by Unbalanced Bagger (Only SMOTE)\")\n",
    "print(\"\\nValidation Results (Decision Tree):\")\n",
    "print(classification_report(y_val, classifier_dtc(x_val)))\n",
    "print(\"\\nValidation Results (SVC):\")\n",
    "print(classification_report(y_val_svc, classifier_svc(x_val_svc)))\n",
    "\n",
    "print(\"\\nTest Results (Decision Tree):\")\n",
    "print(classification_report(y_testing, y_score_dtc))\n",
    "auprc_dtc = average_precision_score(y_testing,y_score_dtc)\n",
    "auc_dtc = roc_auc_score(y_testing,y_score_dtc)\n",
    "print(\"AUPRC: \", auprc_dtc)\n",
    "print(\"AUC: \", auc_dtc)\n",
    "print(\"\\nTest Results (SVC):\")\n",
    "print(classification_report(y_testing_svc, y_score_svc))\n",
    "auprc_svc = average_precision_score(y_testing,y_score_svc)\n",
    "auc_svc = roc_auc_score(y_testing,y_score_svc)\n",
    "print(\"AUPRC: \", auprc_svc)\n",
    "print(\"AUC: \", auc_svc)"
   ],
   "metadata": {
    "collapsed": false,
    "pycharm": {
     "name": "#%%\n"
    }
   }
  },
  {
   "cell_type": "code",
   "execution_count": 28,
   "outputs": [
    {
     "name": "stdout",
     "output_type": "stream",
     "text": [
      "Data balanced by Unbalanced Bagger (Only SMOTE and Random Oversampling)\n",
      "\n",
      "Validation Results (Decision Tree):\n",
      "              precision    recall  f1-score   support\n",
      "\n",
      "           0       0.74      0.76      0.75       102\n",
      "           1       0.58      0.55      0.56        60\n",
      "\n",
      "    accuracy                           0.69       162\n",
      "   macro avg       0.66      0.66      0.66       162\n",
      "weighted avg       0.68      0.69      0.68       162\n",
      "\n",
      "\n",
      "Validation Results (SVC):\n",
      "              precision    recall  f1-score   support\n",
      "\n",
      "           0       0.77      0.80      0.78       102\n",
      "           1       0.64      0.58      0.61        60\n",
      "\n",
      "    accuracy                           0.72       162\n",
      "   macro avg       0.70      0.69      0.70       162\n",
      "weighted avg       0.72      0.72      0.72       162\n",
      "\n",
      "\n",
      "Test Results (Decision Tree):\n",
      "              precision    recall  f1-score   support\n",
      "\n",
      "           0       0.81      0.82      0.81       158\n",
      "           1       0.59      0.58      0.58        73\n",
      "\n",
      "    accuracy                           0.74       231\n",
      "   macro avg       0.70      0.70      0.70       231\n",
      "weighted avg       0.74      0.74      0.74       231\n",
      "\n",
      "AUPRC:  0.47454256464482203\n",
      "AUC:  0.6958990809779783\n",
      "\n",
      "Test Results (SVC):\n",
      "              precision    recall  f1-score   support\n",
      "\n",
      "           0       0.83      0.85      0.84       158\n",
      "           1       0.66      0.63      0.64        73\n",
      "\n",
      "    accuracy                           0.78       231\n",
      "   macro avg       0.74      0.74      0.74       231\n",
      "weighted avg       0.78      0.78      0.78       231\n",
      "\n",
      "AUPRC:  0.5309731364525885\n",
      "AUC:  0.7391191260620772\n"
     ]
    }
   ],
   "source": [
    "#new method, using smote and ros\n",
    "sampling_techniques = [smote, ros]\n",
    "\n",
    "classifier_dtc = UnbalancedBagger.unbalanced_bagger(x_train, y_train, 10, sampling_techniques,base_estimator=dtc,random_seed=RANDOM_SEED)\n",
    "classifier_svc = UnbalancedBagger.unbalanced_bagger(x_train_svc, y_train_svc, 10, sampling_techniques,base_estimator=svc,random_seed=RANDOM_SEED)\n",
    "\n",
    "y_score_dtc = classifier_dtc(X_testing)\n",
    "y_score_svc = classifier_svc(X_testing_svc)\n",
    "\n",
    "print(\"Data balanced by Unbalanced Bagger (Only SMOTE and Random Oversampling)\")\n",
    "print(\"\\nValidation Results (Decision Tree):\")\n",
    "print(classification_report(y_val, classifier_dtc(x_val)))\n",
    "print(\"\\nValidation Results (SVC):\")\n",
    "print(classification_report(y_val_svc, classifier_svc(x_val_svc)))\n",
    "\n",
    "print(\"\\nTest Results (Decision Tree):\")\n",
    "print(classification_report(y_testing, y_score_dtc))\n",
    "auprc_dtc = average_precision_score(y_testing,y_score_dtc)\n",
    "auc_dtc = roc_auc_score(y_testing,y_score_dtc)\n",
    "print(\"AUPRC: \", auprc_dtc)\n",
    "print(\"AUC: \", auc_dtc)\n",
    "print(\"\\nTest Results (SVC):\")\n",
    "print(classification_report(y_testing_svc, y_score_svc))\n",
    "auprc_svc = average_precision_score(y_testing,y_score_svc)\n",
    "auc_svc = roc_auc_score(y_testing,y_score_svc)\n",
    "print(\"AUPRC: \", auprc_svc)\n",
    "print(\"AUC: \", auc_svc)"
   ],
   "metadata": {
    "collapsed": false,
    "pycharm": {
     "name": "#%%\n"
    }
   }
  },
  {
   "cell_type": "code",
   "execution_count": 29,
   "outputs": [
    {
     "name": "stdout",
     "output_type": "stream",
     "text": [
      "unbalanced_bagger_no_sampling\n",
      "\n",
      "Validation Results (Decision Tree):\n",
      "              precision    recall  f1-score   support\n",
      "\n",
      "           0       0.72      0.82      0.77       102\n",
      "           1       0.61      0.47      0.53        60\n",
      "\n",
      "    accuracy                           0.69       162\n",
      "   macro avg       0.67      0.65      0.65       162\n",
      "weighted avg       0.68      0.69      0.68       162\n",
      "\n",
      "\n",
      "Validation Results (SVC):\n",
      "              precision    recall  f1-score   support\n",
      "\n",
      "           0       0.73      0.91      0.81       102\n",
      "           1       0.74      0.42      0.53        60\n",
      "\n",
      "    accuracy                           0.73       162\n",
      "   macro avg       0.73      0.66      0.67       162\n",
      "weighted avg       0.73      0.73      0.71       162\n",
      "\n",
      "\n",
      "Test Results (Decision Tree):\n",
      "              precision    recall  f1-score   support\n",
      "\n",
      "           0       0.82      0.80      0.81       158\n",
      "           1       0.59      0.62      0.60        73\n",
      "\n",
      "    accuracy                           0.74       231\n",
      "   macro avg       0.71      0.71      0.71       231\n",
      "weighted avg       0.75      0.74      0.75       231\n",
      "\n",
      "AUPRC:  0.48620851630945355\n",
      "AUC:  0.710117912259407\n",
      "\n",
      "Test Results (SVC):\n",
      "              precision    recall  f1-score   support\n",
      "\n",
      "           0       0.78      0.97      0.86       158\n",
      "           1       0.85      0.40      0.54        73\n",
      "\n",
      "    accuracy                           0.79       231\n",
      "   macro avg       0.81      0.68      0.70       231\n",
      "weighted avg       0.80      0.79      0.76       231\n",
      "\n",
      "AUPRC:  0.5293158359234105\n",
      "AUC:  0.6828073521761748\n"
     ]
    }
   ],
   "source": [
    "classifier_dtc = UnbalancedBaggerNoSampling.unbalanced_bagger_no_sampling(x_train, y_train, 10,base_estimator=dtc,random_seed=RANDOM_SEED)\n",
    "classifier_svc = UnbalancedBaggerNoSampling.unbalanced_bagger_no_sampling(x_train_svc, y_train_svc, 10,base_estimator=svc,random_seed=RANDOM_SEED)\n",
    "y_score_dtc = classifier_dtc(X_testing)\n",
    "y_score_svc = classifier_svc(X_testing_svc)\n",
    "\n",
    "print(\"unbalanced_bagger_no_sampling\")\n",
    "print(\"\\nValidation Results (Decision Tree):\")\n",
    "print(classification_report(y_val, classifier_dtc(x_val)))\n",
    "print(\"\\nValidation Results (SVC):\")\n",
    "print(classification_report(y_val_svc, classifier_svc(x_val_svc)))\n",
    "\n",
    "print(\"\\nTest Results (Decision Tree):\")\n",
    "print(classification_report(y_testing, y_score_dtc))\n",
    "auprc_dtc = average_precision_score(y_testing,y_score_dtc)\n",
    "auc_dtc = roc_auc_score(y_testing,y_score_dtc)\n",
    "print(\"AUPRC: \", auprc_dtc)\n",
    "print(\"AUC: \", auc_dtc)\n",
    "print(\"\\nTest Results (SVC):\")\n",
    "print(classification_report(y_testing_svc, y_score_svc))\n",
    "auprc_svc = average_precision_score(y_testing,y_score_svc)\n",
    "auc_svc = roc_auc_score(y_testing,y_score_svc)\n",
    "print(\"AUPRC: \", auprc_svc)\n",
    "print(\"AUC: \", auc_svc)"
   ],
   "metadata": {
    "collapsed": false,
    "pycharm": {
     "name": "#%%\n"
    }
   }
  },
  {
   "cell_type": "code",
   "execution_count": 30,
   "outputs": [
    {
     "name": "stdout",
     "output_type": "stream",
     "text": [
      "Original data\n",
      "\n",
      "Validation Results (Decision Tree):\n",
      "              precision    recall  f1-score   support\n",
      "\n",
      "           0       0.72      0.75      0.73       102\n",
      "           1       0.54      0.50      0.52        60\n",
      "\n",
      "    accuracy                           0.65       162\n",
      "   macro avg       0.63      0.62      0.62       162\n",
      "weighted avg       0.65      0.65      0.65       162\n",
      "\n",
      "\n",
      "Validation Results (SVC):\n",
      "              precision    recall  f1-score   support\n",
      "\n",
      "           0       0.73      0.91      0.81       102\n",
      "           1       0.74      0.43      0.55        60\n",
      "\n",
      "    accuracy                           0.73       162\n",
      "   macro avg       0.74      0.67      0.68       162\n",
      "weighted avg       0.74      0.73      0.71       162\n",
      "\n",
      "\n",
      "Test Results (Decision Tree):\n",
      "              precision    recall  f1-score   support\n",
      "\n",
      "           0       0.82      0.79      0.80       158\n",
      "           1       0.58      0.62      0.60        73\n",
      "\n",
      "    accuracy                           0.74       231\n",
      "   macro avg       0.70      0.70      0.70       231\n",
      "weighted avg       0.74      0.74      0.74       231\n",
      "\n",
      "AUPRC:  0.47684963438388095\n",
      "AUC:  0.7037887983353563\n",
      "\n",
      "Test Results (SVC):\n",
      "              precision    recall  f1-score   support\n",
      "\n",
      "           0       0.80      0.97      0.87       158\n",
      "           1       0.87      0.47      0.61        73\n",
      "\n",
      "    accuracy                           0.81       231\n",
      "   macro avg       0.83      0.72      0.74       231\n",
      "weighted avg       0.82      0.81      0.79       231\n",
      "\n",
      "AUPRC:  0.5748726159685064\n",
      "AUC:  0.7170539275186406\n"
     ]
    }
   ],
   "source": [
    "#Train on original data\n",
    "print(\"Original data\")\n",
    "dtc.fit(x_train, y_train)\n",
    "svc.fit(x_train_svc,y_train_svc)\n",
    "\n",
    "print(\"\\nValidation Results (Decision Tree):\")\n",
    "print(classification_report(y_val, dtc.predict(x_val)))\n",
    "print(\"\\nValidation Results (SVC):\")\n",
    "print(classification_report(y_val_svc, svc.predict(x_val_svc)))\n",
    "\n",
    "print(\"\\nTest Results (Decision Tree):\")\n",
    "print(classification_report(y_testing, dtc.predict(X_testing)))\n",
    "auprc_dtc = average_precision_score(y_testing,dtc.predict(X_testing))\n",
    "auc_dtc = roc_auc_score(y_testing,dtc.predict(X_testing))\n",
    "print(\"AUPRC: \", auprc_dtc)\n",
    "print(\"AUC: \", auc_dtc)\n",
    "print(\"\\nTest Results (SVC):\")\n",
    "print(classification_report(y_testing_svc, svc.predict(X_testing_svc)))\n",
    "auprc_svc = average_precision_score(y_testing,svc.predict(X_testing))\n",
    "auc_svc = roc_auc_score(y_testing,svc.predict(X_testing))\n",
    "print(\"AUPRC: \", auprc_svc)\n",
    "print(\"AUC: \", auc_svc)"
   ],
   "metadata": {
    "collapsed": false,
    "pycharm": {
     "name": "#%%\n"
    }
   }
  },
  {
   "cell_type": "code",
   "execution_count": 31,
   "outputs": [
    {
     "name": "stdout",
     "output_type": "stream",
     "text": [
      "Data balanced by SMOTE\n",
      "\n",
      "Validation Results (Decision Tree):\n",
      "              precision    recall  f1-score   support\n",
      "\n",
      "           0       0.72      0.77      0.75       102\n",
      "           1       0.57      0.50      0.53        60\n",
      "\n",
      "    accuracy                           0.67       162\n",
      "   macro avg       0.65      0.64      0.64       162\n",
      "weighted avg       0.67      0.67      0.67       162\n",
      "\n",
      "\n",
      "Validation Results (SVC):\n",
      "              precision    recall  f1-score   support\n",
      "\n",
      "           0       0.76      0.79      0.78       102\n",
      "           1       0.62      0.58      0.60        60\n",
      "\n",
      "    accuracy                           0.72       162\n",
      "   macro avg       0.69      0.69      0.69       162\n",
      "weighted avg       0.71      0.72      0.71       162\n",
      "\n",
      "\n",
      "Test Results (Decision Tree):\n",
      "              precision    recall  f1-score   support\n",
      "\n",
      "           0       0.82      0.81      0.81       158\n",
      "           1       0.59      0.60      0.60        73\n",
      "\n",
      "    accuracy                           0.74       231\n",
      "   macro avg       0.70      0.71      0.71       231\n",
      "weighted avg       0.75      0.74      0.75       231\n",
      "\n",
      "AUPRC:  0.48392690858444287\n",
      "AUC:  0.7064331541529391\n",
      "\n",
      "Test Results (SVC):\n",
      "              precision    recall  f1-score   support\n",
      "\n",
      "           0       0.84      0.81      0.82       158\n",
      "           1       0.62      0.66      0.64        73\n",
      "\n",
      "    accuracy                           0.76       231\n",
      "   macro avg       0.73      0.73      0.73       231\n",
      "weighted avg       0.77      0.76      0.76       231\n",
      "\n",
      "AUPRC:  0.5128615676560883\n",
      "AUC:  0.7338304144269118\n"
     ]
    }
   ],
   "source": [
    "#Train on SMOTE\n",
    "sampled_dtc_x, sampled_dtc_y = smote_technique(x_train,y_train)\n",
    "sampled_svc_x, sampled_svc_y = smote_technique(x_train_svc,y_train_svc)\n",
    "\n",
    "dtc.fit(sampled_dtc_x,sampled_dtc_y)\n",
    "svc.fit(sampled_svc_x,sampled_svc_y)\n",
    "\n",
    "print(\"Data balanced by SMOTE\")\n",
    "print(\"\\nValidation Results (Decision Tree):\")\n",
    "print(classification_report(y_val, dtc.predict(x_val)))\n",
    "print(\"\\nValidation Results (SVC):\")\n",
    "print(classification_report(y_val, svc.predict(x_val_svc)))\n",
    "\n",
    "print(\"\\nTest Results (Decision Tree):\")\n",
    "print(classification_report(y_testing, dtc.predict(X_testing)))\n",
    "auprc_dtc = average_precision_score(y_testing,dtc.predict(X_testing))\n",
    "auc_dtc = roc_auc_score(y_testing,dtc.predict(X_testing))\n",
    "print(\"AUPRC: \", auprc_dtc)\n",
    "print(\"AUC: \", auc_dtc)\n",
    "print(\"\\nTest Results (SVC):\")\n",
    "print(classification_report(y_testing, svc.predict(X_testing_svc)))\n",
    "auprc_svc = average_precision_score(y_testing,svc.predict(X_testing))\n",
    "auc_svc = roc_auc_score(y_testing,svc.predict(X_testing))\n",
    "print(\"AUPRC: \", auprc_svc)\n",
    "print(\"AUC: \", auc_svc)"
   ],
   "metadata": {
    "collapsed": false,
    "pycharm": {
     "name": "#%%\n"
    }
   }
  },
  {
   "cell_type": "code",
   "execution_count": 32,
   "outputs": [
    {
     "name": "stdout",
     "output_type": "stream",
     "text": [
      "Data balanced by Random Oversampling\n",
      "\n",
      "Validation Results (Decision tree):\n",
      "              precision    recall  f1-score   support\n",
      "\n",
      "           0       0.75      0.83      0.79       102\n",
      "           1       0.65      0.52      0.57        60\n",
      "\n",
      "    accuracy                           0.72       162\n",
      "   macro avg       0.70      0.68      0.68       162\n",
      "weighted avg       0.71      0.72      0.71       162\n",
      "\n",
      "\n",
      "Validation Results (SVC):\n",
      "              precision    recall  f1-score   support\n",
      "\n",
      "           0       0.77      0.80      0.78       102\n",
      "           1       0.64      0.58      0.61        60\n",
      "\n",
      "    accuracy                           0.72       162\n",
      "   macro avg       0.70      0.69      0.70       162\n",
      "weighted avg       0.72      0.72      0.72       162\n",
      "\n",
      "\n",
      "Test Results (Decision tree):\n",
      "              precision    recall  f1-score   support\n",
      "\n",
      "           0       0.81      0.80      0.81       158\n",
      "           1       0.58      0.60      0.59        73\n",
      "\n",
      "    accuracy                           0.74       231\n",
      "   macro avg       0.70      0.70      0.70       231\n",
      "weighted avg       0.74      0.74      0.74       231\n",
      "\n",
      "AUPRC:  0.47449570376751343\n",
      "AUC:  0.7001040402288885\n",
      "\n",
      "Test Results (SVC):\n",
      "              precision    recall  f1-score   support\n",
      "\n",
      "           0       0.84      0.82      0.83       158\n",
      "           1       0.63      0.66      0.64        73\n",
      "\n",
      "    accuracy                           0.77       231\n",
      "   macro avg       0.74      0.74      0.74       231\n",
      "weighted avg       0.77      0.77      0.77       231\n",
      "\n",
      "AUPRC:  0.5235098955358508\n",
      "AUC:  0.7401595283509622\n"
     ]
    }
   ],
   "source": [
    "#Train on Random Oversampling\n",
    "sampled_dtc_x, sampled_dtc_y = random_oversampling_technique(x_train,y_train)\n",
    "sampled_svc_x, sampled_svc_y = random_oversampling_technique(x_train_svc,y_train_svc)\n",
    "\n",
    "dtc.fit(sampled_dtc_x,sampled_dtc_y)\n",
    "svc.fit(sampled_svc_x,sampled_svc_y)\n",
    "\n",
    "print(\"Data balanced by Random Oversampling\")\n",
    "print(\"\\nValidation Results (Decision tree):\")\n",
    "print(classification_report(y_val, dtc.predict(x_val)))\n",
    "print(\"\\nValidation Results (SVC):\")\n",
    "print(classification_report(y_val, svc.predict(x_val_svc)))\n",
    "\n",
    "print(\"\\nTest Results (Decision tree):\")\n",
    "print(classification_report(y_testing, dtc.predict(X_testing)))\n",
    "auprc_dtc = average_precision_score(y_testing,dtc.predict(X_testing))\n",
    "auc_dtc = roc_auc_score(y_testing,dtc.predict(X_testing))\n",
    "print(\"AUPRC: \", auprc_dtc)\n",
    "print(\"AUC: \", auc_dtc)\n",
    "print(\"\\nTest Results (SVC):\")\n",
    "print(classification_report(y_testing, svc.predict(X_testing_svc)))\n",
    "auprc_svc = average_precision_score(y_testing,svc.predict(X_testing))\n",
    "auc_svc = roc_auc_score(y_testing,svc.predict(X_testing))\n",
    "print(\"AUPRC: \", auprc_svc)\n",
    "print(\"AUC: \", auc_svc)"
   ],
   "metadata": {
    "collapsed": false,
    "pycharm": {
     "name": "#%%\n"
    }
   }
  },
  {
   "cell_type": "code",
   "execution_count": 33,
   "outputs": [
    {
     "name": "stdout",
     "output_type": "stream",
     "text": [
      "Data balanced by Random Undersampling\n",
      "\n",
      "Validation Results (Decision tree):\n",
      "              precision    recall  f1-score   support\n",
      "\n",
      "           0       0.71      0.70      0.70       102\n",
      "           1       0.50      0.52      0.51        60\n",
      "\n",
      "    accuracy                           0.63       162\n",
      "   macro avg       0.60      0.61      0.61       162\n",
      "weighted avg       0.63      0.63      0.63       162\n",
      "\n",
      "\n",
      "Validation Results (SVC):\n",
      "              precision    recall  f1-score   support\n",
      "\n",
      "           0       0.75      0.75      0.75       102\n",
      "           1       0.57      0.58      0.58        60\n",
      "\n",
      "    accuracy                           0.69       162\n",
      "   macro avg       0.66      0.66      0.66       162\n",
      "weighted avg       0.69      0.69      0.69       162\n",
      "\n",
      "\n",
      "Test Results (Decision tree):\n",
      "              precision    recall  f1-score   support\n",
      "\n",
      "           0       0.83      0.70      0.76       158\n",
      "           1       0.52      0.68      0.59        73\n",
      "\n",
      "    accuracy                           0.70       231\n",
      "   macro avg       0.67      0.69      0.67       231\n",
      "weighted avg       0.73      0.70      0.71       231\n",
      "\n",
      "AUPRC:  0.47449570376751343\n",
      "AUC:  0.6937315762094677\n",
      "\n",
      "Test Results (SVC):\n",
      "              precision    recall  f1-score   support\n",
      "\n",
      "           0       0.83      0.80      0.82       158\n",
      "           1       0.60      0.64      0.62        73\n",
      "\n",
      "    accuracy                           0.75       231\n",
      "   macro avg       0.72      0.72      0.72       231\n",
      "weighted avg       0.76      0.75      0.76       231\n",
      "\n",
      "AUPRC:  0.5005063429720964\n",
      "AUC:  0.7238165423963934\n"
     ]
    }
   ],
   "source": [
    "#Train on Random Undersampling\n",
    "sampled_dtc_x, sampled_dtc_y = random_undersampling_technique(x_train,y_train)\n",
    "sampled_svc_x, sampled_svc_y = random_undersampling_technique(x_train_svc,y_train_svc)\n",
    "\n",
    "dtc.fit(sampled_dtc_x,sampled_dtc_y)\n",
    "svc.fit(sampled_svc_x,sampled_svc_y)\n",
    "\n",
    "print(\"Data balanced by Random Undersampling\")\n",
    "print(\"\\nValidation Results (Decision tree):\")\n",
    "print(classification_report(y_val, dtc.predict(x_val)))\n",
    "print(\"\\nValidation Results (SVC):\")\n",
    "print(classification_report(y_val, svc.predict(x_val_svc)))\n",
    "\n",
    "print(\"\\nTest Results (Decision tree):\")\n",
    "print(classification_report(y_testing, dtc.predict(X_testing)))\n",
    "auc_dtc = roc_auc_score(y_testing,dtc.predict(X_testing))\n",
    "print(\"AUPRC: \", auprc_dtc)\n",
    "print(\"AUC: \", auc_dtc)\n",
    "print(\"\\nTest Results (SVC):\")\n",
    "print(classification_report(y_testing, svc.predict(X_testing_svc)))\n",
    "auprc_svc = average_precision_score(y_testing,svc.predict(X_testing))\n",
    "auc_svc = roc_auc_score(y_testing,svc.predict(X_testing))\n",
    "print(\"AUPRC: \", auprc_svc)\n",
    "print(\"AUC: \", auc_svc)"
   ],
   "metadata": {
    "collapsed": false,
    "pycharm": {
     "name": "#%%\n"
    }
   }
  }
 ],
 "metadata": {
  "kernelspec": {
   "display_name": "Python 3",
   "language": "python",
   "name": "python3"
  },
  "language_info": {
   "codemirror_mode": {
    "name": "ipython",
    "version": 2
   },
   "file_extension": ".py",
   "mimetype": "text/x-python",
   "name": "python",
   "nbconvert_exporter": "python",
   "pygments_lexer": "ipython2",
   "version": "2.7.6"
  },
  "pycharm": {
   "stem_cell": {
    "cell_type": "raw",
    "source": [
     "DAMI2 Project Report Code - Handling unbalanced datasets\n",
     "\n",
     "2020 Jimmy Ljungman\n",
     "\n",
     "This code imports a data set, preprocesses it, run a new sampling technique\n",
     "called 'Unbalanced_bagging' and measure its performance against other sampling techniques\n",
     "such as random oversampling and random undersampling.\n",
     "\n",
     "Unbalanced_bagging will be measured against the other techniques using the metrics AUPRC and time complexity.\n"
    ],
    "metadata": {
     "collapsed": false
    }
   }
  }
 },
 "nbformat": 4,
 "nbformat_minor": 0
}